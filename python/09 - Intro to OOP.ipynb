{
 "cells": [
  {
   "cell_type": "code",
   "execution_count": 3,
   "id": "0d73ff7c",
   "metadata": {},
   "outputs": [
    {
     "data": {
      "text/plain": [
       "['__class__',\n",
       " '__delattr__',\n",
       " '__dict__',\n",
       " '__dir__',\n",
       " '__doc__',\n",
       " '__eq__',\n",
       " '__format__',\n",
       " '__ge__',\n",
       " '__getattribute__',\n",
       " '__gt__',\n",
       " '__hash__',\n",
       " '__init__',\n",
       " '__init_subclass__',\n",
       " '__le__',\n",
       " '__lt__',\n",
       " '__module__',\n",
       " '__ne__',\n",
       " '__new__',\n",
       " '__reduce__',\n",
       " '__reduce_ex__',\n",
       " '__repr__',\n",
       " '__setattr__',\n",
       " '__sizeof__',\n",
       " '__str__',\n",
       " '__subclasshook__',\n",
       " '__weakref__']"
      ]
     },
     "execution_count": 3,
     "metadata": {},
     "output_type": "execute_result"
    }
   ],
   "source": [
    "class Point:\n",
    "    pass\n",
    "\n",
    "class Person:\n",
    "    pass\n",
    "\n",
    "\n",
    "\n",
    "\n",
    "p = Point()\n",
    "\n",
    "\n",
    "dir(p)"
   ]
  },
  {
   "cell_type": "code",
   "execution_count": 33,
   "id": "e9a383b7",
   "metadata": {},
   "outputs": [
    {
     "name": "stdout",
     "output_type": "stream",
     "text": [
      "Costruttore\n",
      "Costruttore\n",
      "Costruttore\n"
     ]
    }
   ],
   "source": [
    "class Point:\n",
    "    counter = 0\n",
    "    \n",
    "    def __init__(self, ascissa=0, ordinata=0):\n",
    "        self.x = ascissa\n",
    "        self.y = ordinata\n",
    "        Point.counter += 1\n",
    "        print(\"Costruttore\")\n",
    "\n",
    "        \n",
    "p1 = Point(6, 7) # -> self sarà un nome \"comodo\" che rappresenterà proprio l'oggetto p1 dall'interno della classe\n",
    "p2 = Point(5) # -> self sarà un nome \"comodo\" che rappresenterà proprio l'oggetto p2 dall'interno della classe\n",
    "p3 = Point(ordinata=8)"
   ]
  },
  {
   "cell_type": "code",
   "execution_count": 28,
   "id": "5b86b1aa",
   "metadata": {},
   "outputs": [
    {
     "name": "stdout",
     "output_type": "stream",
     "text": [
      "6 7\n",
      "5 0\n",
      "0 8\n"
     ]
    }
   ],
   "source": [
    "print(p1.x, p1.y)\n",
    "print(p2.x, p2.y)\n",
    "print(p3.x, p3.y)"
   ]
  },
  {
   "cell_type": "code",
   "execution_count": 35,
   "id": "c2030745",
   "metadata": {},
   "outputs": [
    {
     "name": "stdout",
     "output_type": "stream",
     "text": [
      "3\n",
      "3\n"
     ]
    }
   ],
   "source": [
    "print(Point.counter)\n",
    "print(p1.counter)"
   ]
  },
  {
   "cell_type": "code",
   "execution_count": 36,
   "id": "7d0d8d08",
   "metadata": {},
   "outputs": [],
   "source": [
    "Point.counter += 2"
   ]
  },
  {
   "cell_type": "code",
   "execution_count": 42,
   "id": "f7918a9c",
   "metadata": {},
   "outputs": [
    {
     "name": "stdout",
     "output_type": "stream",
     "text": [
      "0x1027169b0\n",
      "0x1027169b0\n",
      "0x1027169b0\n",
      "0x1027169d0\n",
      "0x1027169b0\n",
      "0x102716910\n"
     ]
    }
   ],
   "source": [
    "print(hex(id(p1.counter)))\n",
    "print(hex(id(p2.counter)))\n",
    "print(hex(id(p3.counter)))\n",
    "\n",
    "print(hex(id(p1.x)))\n",
    "print(hex(id(p2.x)))\n",
    "print(hex(id(p3.x)))"
   ]
  },
  {
   "cell_type": "code",
   "execution_count": 46,
   "id": "7d3385e6",
   "metadata": {},
   "outputs": [
    {
     "name": "stdout",
     "output_type": "stream",
     "text": [
      "Costruttore\n",
      "Costruttore\n",
      "Costruttore\n",
      "Punto(1, 2)\n",
      "Punto(0, 0)\n",
      "Punto(0, 5)\n",
      "Punto(100, 2)\n"
     ]
    }
   ],
   "source": [
    "class Point:\n",
    "    counter = 0\n",
    "    \n",
    "    def __init__(self, ascissa=0, ordinata=0):\n",
    "        self.x = ascissa\n",
    "        self.y = ordinata\n",
    "        Point.counter += 1\n",
    "        print(\"Costruttore\")\n",
    "        \n",
    "    def print_info(self):\n",
    "        print(f\"Punto({self.x}, {self.y})\")\n",
    "    \n",
    "    @classmethod\n",
    "    def create_point_equals_x_y(cls):\n",
    "        import random\n",
    "        n = random.randint(0, 10)\n",
    "        return Point(n, n)\n",
    "        \n",
    "p1 = Point(1, 2)\n",
    "p2 = Point()\n",
    "p3 = Point(ordinata=5)\n",
    "\n",
    "p1.print_info()\n",
    "p2.print_info()\n",
    "p3.print_info()\n",
    "        \n",
    "    \n",
    "p1.x = 100\n",
    "\n",
    "p1.print_info()"
   ]
  },
  {
   "cell_type": "code",
   "execution_count": 47,
   "id": "5c16cbcf",
   "metadata": {},
   "outputs": [
    {
     "name": "stdout",
     "output_type": "stream",
     "text": [
      "Costruttore\n"
     ]
    }
   ],
   "source": [
    "x_y_equal = Point.create_point_equals_x_y()"
   ]
  },
  {
   "cell_type": "code",
   "execution_count": 48,
   "id": "a7d5bab5",
   "metadata": {},
   "outputs": [
    {
     "name": "stdout",
     "output_type": "stream",
     "text": [
      "Punto(6, 6)\n",
      "None\n"
     ]
    }
   ],
   "source": [
    "print(x_y_equal.print_info())"
   ]
  },
  {
   "cell_type": "code",
   "execution_count": 70,
   "id": "dce0cc5b",
   "metadata": {},
   "outputs": [
    {
     "name": "stdout",
     "output_type": "stream",
     "text": [
      "My name is Persie Normie\n",
      "My name is Giuseppe Mastrandrea (course Ing. Informatica)\n",
      "My name is Pinco Pallo (course Lettere) and i love literature!\n",
      "Ing. Informatica\n",
      "Lettere\n"
     ]
    }
   ],
   "source": [
    "class Person:\n",
    "    def __init__(self, first_name, last_name):\n",
    "        self.first_name = first_name\n",
    "        self.last_name = last_name\n",
    "        \n",
    "    def greet(self):\n",
    "        return f\"My name is {self.first_name} {self.last_name}\"\n",
    "    \n",
    "class Student(Person):\n",
    "    def __init__(self, first_name, last_name, cdl):\n",
    "        self.first_name = first_name\n",
    "        self.last_name = last_name\n",
    "        self.cdl = cdl\n",
    "        \n",
    "    def greet(self):\n",
    "        return f\"My name is {self.first_name} {self.last_name} (course {self.cdl})\"\n",
    "        \n",
    "class LiteratureStudent(Student):\n",
    "    def __init__(self, first_name, last_name):\n",
    "        self.first_name = first_name\n",
    "        self.last_name = last_name\n",
    "        self.cdl = \"Lettere\"\n",
    "        \n",
    "    def greet(self):\n",
    "        return f\"My name is {self.first_name} {self.last_name} (course {self.cdl}) and i love literature!\"\n",
    "    \n",
    "        \n",
    "    \n",
    "me = Person(\"Persie\", \"Normie\")\n",
    "s = Student(\"Giuseppe\", \"Mastrandrea\", \"Ing. Informatica\")\n",
    "l = LiteratureStudent(\"Pinco\", \"Pallo\")\n",
    "\n",
    "\n",
    "print(me.greet())\n",
    "\n",
    "print(s.greet())\n",
    "\n",
    "print(l.greet())\n",
    "\n",
    "print(s.cdl)\n",
    "print(l.cdl)"
   ]
  },
  {
   "cell_type": "code",
   "execution_count": 67,
   "id": "ed569dac",
   "metadata": {},
   "outputs": [
    {
     "name": "stdout",
     "output_type": "stream",
     "text": [
      "<class '__main__.Student'>\n",
      "True\n",
      "True\n",
      "False\n",
      "True\n",
      "True\n",
      "True\n"
     ]
    }
   ],
   "source": [
    "print(type(s))\n",
    "\n",
    "print(isinstance(s, Student)) # -> True\n",
    "print(isinstance(s, Person))  # -> True\n",
    "print(isinstance(s, LiteratureStudent)) # -> False\n",
    "\n",
    "print(issubclass(Student, Person))\n",
    "print(issubclass(LiteratureStudent, Student))\n",
    "print(issubclass(LiteratureStudent, Person))"
   ]
  },
  {
   "cell_type": "code",
   "execution_count": 71,
   "id": "606ada2a",
   "metadata": {},
   "outputs": [],
   "source": [
    "class Person:\n",
    "    def __init__(self, first_name, last_name):\n",
    "        self.first_name = first_name\n",
    "        self.last_name = last_name\n",
    "        print(\"Costruttore di Person\")\n",
    "        \n",
    "    def greet(self):\n",
    "        return f\"My name is {self.first_name} {self.last_name}\"\n",
    "    \n",
    "class Student(Person):\n",
    "    def __init__(self, first_name, last_name, cdl):\n",
    "        super().__init__(first_name, last_name)\n",
    "        self.cdl = cdl\n",
    "        print(\"Costruttore di Student\")\n",
    "        \n",
    "    def greet(self):\n",
    "        return f\"My name is {self.first_name} {self.last_name} (course {self.cdl})\"\n",
    "        \n",
    "class LiteratureStudent(Student):\n",
    "    def __init__(self, first_name, last_name):\n",
    "        super().__init__(first_name, last_name, \"Lettere\")\n",
    "        print(\"Costruttore di LiteratureStudent\")\n",
    "        \n",
    "    def greet(self):\n",
    "        return f\"My name is {self.first_name} {self.last_name} (course {self.cdl}) and i love literature!\""
   ]
  },
  {
   "cell_type": "code",
   "execution_count": 74,
   "id": "017bdd79",
   "metadata": {},
   "outputs": [
    {
     "name": "stdout",
     "output_type": "stream",
     "text": [
      "Costruttore di Person\n",
      "Costruttore di Person\n",
      "Costruttore di Student\n",
      "Costruttore di Person\n",
      "Costruttore di Student\n",
      "Costruttore di LiteratureStudent\n"
     ]
    }
   ],
   "source": [
    "p = Person(\"Normie\", \"Persie\")\n",
    "i = Student(\"Engie\", \"Computerie\", \"Ing. Informatica\")\n",
    "l = LiteratureStudent(\"William\", \"Shakespeare\")"
   ]
  },
  {
   "cell_type": "markdown",
   "id": "4e2fde25",
   "metadata": {},
   "source": [
    "# Hands On!\n",
    "\n",
    "\n",
    "## Esercizio 1: Mixin di Log\n",
    "\n",
    "### Obiettivo\n",
    "Implementare un mixin `LogMixin` che fornisce funzionalità di logging per altre classi.\n",
    "\n",
    "### Requisiti\n",
    "1. Definisci una classe `LogMixin` con i seguenti metodi:\n",
    "   - `log_info(self, messaggio)`: stampa un messaggio di log informativo.\n",
    "   - `log_error(self, messaggio)`: stampa un messaggio di log di errore.\n",
    "\n",
    "2. Crea una classe `Servizio` che eredita da `LogMixin` e fornisce servizi generici.\n",
    "3. Implementa la classe `Servizio` in modo che utilizzi i metodi di logging forniti da `LogMixin`.\n",
    "\n",
    "### Suggerimento\n",
    "Utilizza l'ereditarietà multipla per includere `LogMixin` nella classe `Servizio`.\n",
    "\n",
    "## Esercizio 2: Mixin di Validazione\n",
    "\n",
    "### Obiettivo\n",
    "Implementare un mixin `ValidazioneMixin` che fornisce funzionalità di validazione per altre classi.\n",
    "\n",
    "### Requisiti\n",
    "1. Definisci una classe `ValidazioneMixin` con i seguenti metodi:\n",
    "   - `valida_email(self, email)`: verifica se una stringa è un'email valida.\n",
    "   - `valida_password(self, password)`: verifica se una stringa soddisfa i requisiti di una password valida.\n",
    "\n",
    "2. Crea una classe `Utente` che eredita da `ValidazioneMixin` e rappresenta un utente del sistema.\n",
    "3. Implementa la classe `Utente` in modo che utilizzi i metodi di validazione forniti da `ValidazioneMixin`.\n",
    "\n",
    "### Suggerimento\n",
    "Utilizza espressioni regolari (regex) per implementare la validazione dell'email e della password.\n",
    "\n",
    "\n",
    "## Esercizio 3: Mixin di Ordinamento\n",
    "\n",
    "### Obiettivo\n",
    "Implementare un mixin `OrdinamentoMixin` che fornisce funzionalità di ordinamento per altre classi.\n",
    "\n",
    "### Requisiti\n",
    "1. Definisci una classe `OrdinamentoMixin` con i seguenti metodi:\n",
    "   - `ordina_per_attr(self, lista, attr)`: ordina una lista di oggetti in base a un attributo specificato.\n",
    "\n",
    "2. Crea una classe `Libro` che eredita da `OrdinamentoMixin` e rappresenta un libro con attributi come `titolo`, `autore` e `anno`.\n",
    "3. Implementa la classe `Libro` in modo che utilizzi il metodo di ordinamento fornito da `OrdinamentoMixin`.\n",
    "\n",
    "### Suggerimento\n",
    "Utilizza il modulo `operator` per ottenere l'attributo su cui basare l'ordinamento.\n",
    "\n",
    "## Esercizio 4: Mixin di Formattazione\n",
    "\n",
    "### Obiettivo\n",
    "Implementare un mixin `FormattazioneMixin` che fornisce funzionalità di formattazione per altre classi.\n",
    "\n",
    "### Requisiti\n",
    "1. Definisci una classe `FormattazioneMixin` con i seguenti metodi:\n",
    "   - `formattazione_json(self)`: restituisce una rappresentazione JSON dell'oggetto.\n",
    "   - `formattazione_csv(self)`: restituisce una rappresentazione CSV dell'oggetto.\n",
    "\n",
    "2. Crea una classe `Prodotto` che eredita da `FormattazioneMixin` e rappresenta un prodotto con attributi come `nome`, `prezzo` e `quantità`.\n",
    "3. Implementa la classe `Prodotto` in modo che utilizzi i metodi di formattazione forniti da `FormattazioneMixin`.\n",
    "\n",
    "### Suggerimento\n",
    "Utilizza il modulo `json` per la formattazione JSON e `csv` per la formattazione CSV.\n"
   ]
  },
  {
   "cell_type": "code",
   "execution_count": 3,
   "id": "c53d6253",
   "metadata": {},
   "outputs": [
    {
     "name": "stdout",
     "output_type": "stream",
     "text": [
      "Costruttore Child\n"
     ]
    }
   ],
   "source": [
    "class Base:\n",
    "    def __init__(self):\n",
    "        print(\"Costruttore Base\")\n",
    "        \n",
    "class Base2:\n",
    "    def __init__(self):\n",
    "        print(\"Costruttore Base2\")\n",
    "        \n",
    "        \n",
    "class Child(Base2, Base):\n",
    "    def __init__(self):\n",
    "        print(\"Costruttore Child\")\n",
    "\n",
    "\n",
    "c = Child()"
   ]
  },
  {
   "cell_type": "code",
   "execution_count": null,
   "id": "7ef96fbb",
   "metadata": {},
   "outputs": [],
   "source": [
    "class JsonMixin:\n",
    "    "
   ]
  }
 ],
 "metadata": {
  "kernelspec": {
   "display_name": "Python 3 (ipykernel)",
   "language": "python",
   "name": "python3"
  },
  "language_info": {
   "codemirror_mode": {
    "name": "ipython",
    "version": 3
   },
   "file_extension": ".py",
   "mimetype": "text/x-python",
   "name": "python",
   "nbconvert_exporter": "python",
   "pygments_lexer": "ipython3",
   "version": "3.10.0"
  }
 },
 "nbformat": 4,
 "nbformat_minor": 5
}
