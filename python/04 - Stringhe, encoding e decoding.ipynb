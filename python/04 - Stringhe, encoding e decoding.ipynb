{
 "cells": [
  {
   "cell_type": "markdown",
   "id": "1796989a",
   "metadata": {},
   "source": [
    "Una stringa è una sequenza di caratteri. È uno dei tipi built-in di Python. "
   ]
  },
  {
   "cell_type": "code",
   "execution_count": 1,
   "id": "6ffb44fb",
   "metadata": {},
   "outputs": [
    {
     "name": "stdout",
     "output_type": "stream",
     "text": [
      "Hello world\n",
      "<class 'str'>\n",
      "H\n",
      "e\n",
      "l\n",
      "l\n",
      "o\n",
      " \n",
      "w\n",
      "o\n",
      "r\n",
      "l\n",
      "d\n",
      "True\n",
      "False\n"
     ]
    }
   ],
   "source": [
    "s = \"Hello world\"\n",
    "\n",
    "print(s)\n",
    "print(type(s))\n",
    "\n",
    "\n",
    "for c in s:\n",
    "    print(c)\n",
    "    \n",
    "print('world' in s)\n",
    "\n",
    "print('world' not in s)"
   ]
  },
  {
   "cell_type": "markdown",
   "id": "a1e7880f",
   "metadata": {},
   "source": [
    "Una stringa è una sequenza di caratteri, e come ogni sequenza è possibile accedere al singolo elemento utilizzando le parentesi quadre. Inoltre essendo una sequenza, è possibile ottenere la sua lunghezza utilizzando la funzione `len`:"
   ]
  },
  {
   "cell_type": "code",
   "execution_count": 14,
   "id": "1c10b9a4",
   "metadata": {},
   "outputs": [
    {
     "name": "stdout",
     "output_type": "stream",
     "text": [
      "Hello world\n",
      "o\n",
      "11\n"
     ]
    }
   ],
   "source": [
    "print(s)\n",
    "print(s[4])\n",
    "print(len(s))"
   ]
  },
  {
   "cell_type": "markdown",
   "id": "9341e6ed",
   "metadata": {},
   "source": [
    "È possibile usare l'operatore `+` per concatenare fra loro due o più stringhe. Non è possibile concatenare fra loro una stringa e un altro tipo di dati. In questi casi si utilizza il metodo `str()` per convertire l'altro tipo di dato che si vuole concatenare in stringa:"
   ]
  },
  {
   "cell_type": "code",
   "execution_count": 25,
   "id": "a544e775",
   "metadata": {},
   "outputs": [
    {
     "name": "stdout",
     "output_type": "stream",
     "text": [
      "HelloWorld!\n",
      "Il valore di Pi Greco è 3.141592653589793\n"
     ]
    }
   ],
   "source": [
    "s = \"Hello\"\n",
    "t = \"World\"\n",
    "u = \"!\"\n",
    "\n",
    "print(s + t + u)\n",
    "\n",
    "import math\n",
    "# print(\"Il valore di Pi Greco è \" + math.pi) # TypeError: can only concatenate str (not \"float\") to str\n",
    "print(\"Il valore di Pi Greco è \" + str(math.pi))"
   ]
  },
  {
   "cell_type": "markdown",
   "id": "c0ac07bf",
   "metadata": {},
   "source": [
    "È possibile utilizzare l'operatore `*` per ripetere una stringa per un certo numero di volte:"
   ]
  },
  {
   "cell_type": "code",
   "execution_count": 17,
   "id": "5f48bec1",
   "metadata": {},
   "outputs": [
    {
     "name": "stdout",
     "output_type": "stream",
     "text": [
      "hello hello hello hello \n"
     ]
    }
   ],
   "source": [
    "print(\"hello \" * 4)"
   ]
  },
  {
   "cell_type": "markdown",
   "id": "fd332969",
   "metadata": {},
   "source": [
    "È possibile utilizzare le funzioni di formattazione di stringhe in Python per effettuare delle concatenazioni in maniera più agevole. È ad esempio possibile utilizzare la funzione `format()` su una stringa all'interno della quale ci sono dei placeholder. I caratteri placeholder sono le parentesi graffe aperte e chiuse (`{}`) ed è possibile assegnare ad ogni placeholder un argomento della funzione `format()`. \n"
   ]
  },
  {
   "cell_type": "code",
   "execution_count": 72,
   "id": "b645811a",
   "metadata": {},
   "outputs": [
    {
     "name": "stdout",
     "output_type": "stream",
     "text": [
      "Giuseppe Mastrandrea is a nice guy and he's 19 years old\n",
      "Giuseppe Mastrandrea is a nice guy and he's 19 years old\n"
     ]
    }
   ],
   "source": [
    "first_name = \"Giuseppe\"\n",
    "last_name = \"Mastrandrea\"\n",
    "age = 19\n",
    "print(\"{} {} is a nice guy and he's {} years old\".format(first_name, last_name, age))\n",
    "\n",
    "print(\"{0} {1} is a nice guy and he's {2} years old\".format(first_name, last_name, age))"
   ]
  },
  {
   "cell_type": "markdown",
   "id": "aa29863e",
   "metadata": {},
   "source": [
    "Nelle versioni più recenti di Python è possibile utilizzare le f-strings, ovvero delle stringhe che si fanno precedere ad una `f`. Questa `f` indica a Python che è possibile utilizzare nella stringa dei nomi di variabili direttamente nei placeholder `{}`:"
   ]
  },
  {
   "cell_type": "code",
   "execution_count": 73,
   "id": "fbbc8e24",
   "metadata": {},
   "outputs": [
    {
     "name": "stdout",
     "output_type": "stream",
     "text": [
      "Giuseppe Mastrandrea is a nice guy and he's 19 years old.\n"
     ]
    }
   ],
   "source": [
    "print(f\"{first_name} {last_name} is a nice guy and he's {age} years old.\")"
   ]
  },
  {
   "cell_type": "markdown",
   "id": "8d8ce362",
   "metadata": {},
   "source": [
    "Nelle stringhe Python ci sono dei caratteri \"speciali\". Un esempio di carattere speciale è il carattere **backslash** (`\\`). Esso indica che il carattere immediatamente successivo al backslash assume un significato speciale. Ad esempio:\n",
    "- `\\n` stampa una nuova riga\n",
    "- `\\t` stampa una tabulazione\n",
    "\n",
    "Esempi:"
   ]
  },
  {
   "cell_type": "code",
   "execution_count": 76,
   "id": "cd69df68",
   "metadata": {},
   "outputs": [
    {
     "name": "stdout",
     "output_type": "stream",
     "text": [
      "Ora andiamo \n",
      " a capo\n",
      "Ora stampiamo \t una tabulazione\n"
     ]
    }
   ],
   "source": [
    "print(\"Ora andiamo \\n a capo\")\n",
    "print(\"Ora stampiamo \\t una tabulazione\")"
   ]
  },
  {
   "cell_type": "markdown",
   "id": "0d1a8f3c",
   "metadata": {},
   "source": [
    "E se volessimo stampare proprio il carattere `\\` in una stringa? Oppure i caratteri `\\n`? In questo caso si può usare una stringa **raw**:\n"
   ]
  },
  {
   "cell_type": "code",
   "execution_count": 80,
   "id": "ca45a755",
   "metadata": {},
   "outputs": [
    {
     "name": "stdout",
     "output_type": "stream",
     "text": [
      "\\n\n",
      "\\t\n"
     ]
    }
   ],
   "source": [
    "print(r'\\n')\n",
    "print(r'\\t')"
   ]
  },
  {
   "cell_type": "markdown",
   "id": "f4836e9e",
   "metadata": {},
   "source": [
    "Oppure far precedere il gruppo \"speciale\" ad un **altro** backslash, in maniera che Python sappia che la sequenza di caratteri successiva è **escaped**:\n"
   ]
  },
  {
   "cell_type": "code",
   "execution_count": 79,
   "id": "4c967f99",
   "metadata": {},
   "outputs": [
    {
     "name": "stdout",
     "output_type": "stream",
     "text": [
      "\\n\n",
      "\\t\n"
     ]
    }
   ],
   "source": [
    "print(\"\\\\n\")\n",
    "print(\"\\\\t\")"
   ]
  },
  {
   "cell_type": "markdown",
   "id": "f969d62f",
   "metadata": {},
   "source": [
    "La funzione `ord()` ritorna il valore intero corrispondente al carattere passato in input. Corrisponde al **code point** unicode convertito in decimale:"
   ]
  },
  {
   "cell_type": "code",
   "execution_count": 32,
   "id": "029a4ec6",
   "metadata": {},
   "outputs": [
    {
     "name": "stdout",
     "output_type": "stream",
     "text": [
      "A 65\n",
      "B 66\n",
      "C 67\n",
      "D 68\n",
      "E 69\n",
      "F 70\n",
      "G 71\n",
      "à 224\n",
      "è 232\n",
      "ì 236\n",
      "ò 242\n",
      "ù 249\n",
      "😀 128512\n",
      "😃 128515\n",
      "😄 128516\n",
      "😁 128513\n"
     ]
    }
   ],
   "source": [
    "alphabet = \"ABCDEFG\"\n",
    "accents  = \"àèìòù\"\n",
    "emojis   = \"😀😃😄😁\"\n",
    "\n",
    "for l in alphabet:\n",
    "    print(l, ord(l))\n",
    "\n",
    "for l in accents:\n",
    "    print(l, ord(l))\n",
    "\n",
    "for l in emojis:\n",
    "    print(l, ord(l))\n"
   ]
  },
  {
   "cell_type": "markdown",
   "id": "f67a4d1f",
   "metadata": {},
   "source": [
    "\n",
    "La funzione `chr()` fa esattamente il contrario: prende in input un numero e restituisce in output un carattere:\n"
   ]
  },
  {
   "cell_type": "code",
   "execution_count": 35,
   "id": "5b4dc16b",
   "metadata": {},
   "outputs": [
    {
     "name": "stdout",
     "output_type": "stream",
     "text": [
      "A\n",
      "A\n",
      "A\n"
     ]
    }
   ],
   "source": [
    "print(chr(65))\n",
    "print(chr(0x41))\n",
    "print(chr(0x0000041))"
   ]
  },
  {
   "cell_type": "markdown",
   "id": "7c6e5a08",
   "metadata": {},
   "source": [
    "È possibile convertire una stringa in numero utilizzando la forma della funzione `int(x, base)` con due parametri in input: il numero da convertire e la base numerica:"
   ]
  },
  {
   "cell_type": "code",
   "execution_count": 36,
   "id": "860f8bb2",
   "metadata": {},
   "outputs": [
    {
     "name": "stdout",
     "output_type": "stream",
     "text": [
      "65\n"
     ]
    }
   ],
   "source": [
    "s = '0x000000041'\n",
    "\n",
    "print(int(s, 16))"
   ]
  },
  {
   "cell_type": "markdown",
   "id": "928b02bc",
   "metadata": {},
   "source": [
    "È anche possibile utilizzare i prefissi `\\x`, `\\u` o `\\U` per stampare un code point come stringa. Rispettivamente bisogna usare:\n",
    "- con `\\x` due caratteri\n",
    "- con `\\u` quattro caratteri\n",
    "- con `\\U` otto caratteri"
   ]
  },
  {
   "cell_type": "code",
   "execution_count": 42,
   "id": "5fe01d48",
   "metadata": {},
   "outputs": [
    {
     "name": "stdout",
     "output_type": "stream",
     "text": [
      "A\n",
      "A\n",
      "A\n"
     ]
    }
   ],
   "source": [
    "print('\\x41')\n",
    "print('\\u0041')\n",
    "print('\\U00000041')\n"
   ]
  },
  {
   "cell_type": "markdown",
   "id": "8d0d64e0",
   "metadata": {},
   "source": [
    "In Python, le stringhe sono di default **stringhe Unicode**. In Python2, per scrivere una stringa unicode bisognava esplicitamente far precedere alla stringa la lettera `u`:\n",
    "\n",
    "    s = u\"This is a Unicode String\"\n",
    "\n",
    "È possibile effettuare un **encoding** di una stringa utilizzando invece le stringhe di byte. Una stringa di byte in Python si crea facendo precedere la lettera `b` al momento della dichiarazione della stringa:\n",
    "\n",
    "    s = b\"This is a byte string\"\n",
    "\n",
    "È possibile usare le funzioni `encode(s, encoding)` e `decode(s, encoding)` per fare operazioni di encoding e decoding di una stringa.\n"
   ]
  },
  {
   "cell_type": "code",
   "execution_count": 63,
   "id": "17884b5e",
   "metadata": {},
   "outputs": [
    {
     "name": "stdout",
     "output_type": "stream",
     "text": [
      "b'\\xff\\xfe\\x00\\x00Q\\x00\\x00\\x00u\\x00\\x00\\x00e\\x00\\x00\\x00s\\x00\\x00\\x00t\\x00\\x00\\x00a\\x00\\x00\\x00 \\x00\\x00\\x00\\xe8\\x00\\x00\\x00 \\x00\\x00\\x00u\\x00\\x00\\x00n\\x00\\x00\\x00a\\x00\\x00\\x00 \\x00\\x00\\x00s\\x00\\x00\\x00t\\x00\\x00\\x00r\\x00\\x00\\x00i\\x00\\x00\\x00n\\x00\\x00\\x00g\\x00\\x00\\x00a\\x00\\x00\\x00 \\x00\\x00\\x00U\\x00\\x00\\x00n\\x00\\x00\\x00i\\x00\\x00\\x00c\\x00\\x00\\x00o\\x00\\x00\\x00d\\x00\\x00\\x00e\\x00\\x00\\x00'\n",
      "Hey, un unicorno!: 🦄\n",
      "è una stringa\n"
     ]
    }
   ],
   "source": [
    "us = u\"Questa è una stringa Unicode\"\n",
    "bs = b\"Hey, un unicorno!: \\xF0\\x9F\\xA6\\x84\"\n",
    "\n",
    "\n",
    "print(us.encode(\"UTF-32\"))\n",
    "print(bs.decode(\"UTF-8\"))\n",
    "\n",
    "print(bytes(\"è una stringa\", 'utf-16').decode(\"UTF-16\"))"
   ]
  },
  {
   "cell_type": "markdown",
   "id": "622558cf",
   "metadata": {},
   "source": [
    "Chiaramente non tutti i caratteri sono presenti in ogni encoding. Ad esempio, vediamo che succede se inseriamo una in una stringa Unicode e proviamo a encodarla in ASCII (che ha 7 bit, quindi può rappresentare 128 caratteri al massimo):\n"
   ]
  },
  {
   "cell_type": "code",
   "execution_count": 65,
   "id": "3deb4afe",
   "metadata": {},
   "outputs": [
    {
     "ename": "UnicodeEncodeError",
     "evalue": "'ascii' codec can't encode character '\\U0001f355' in position 11: ordinal not in range(128)",
     "output_type": "error",
     "traceback": [
      "\u001b[0;31m---------------------------------------------------------------------------\u001b[0m",
      "\u001b[0;31mUnicodeEncodeError\u001b[0m                        Traceback (most recent call last)",
      "\u001b[0;32m/var/folders/bp/vpf4133s7wjb10lznth5p4900000gn/T/ipykernel_22407/1918731875.py\u001b[0m in \u001b[0;36m<module>\u001b[0;34m\u001b[0m\n\u001b[1;32m      1\u001b[0m \u001b[0ms\u001b[0m \u001b[0;34m=\u001b[0m \u001b[0;34m\"A slice of 🍕\"\u001b[0m\u001b[0;34m\u001b[0m\u001b[0;34m\u001b[0m\u001b[0m\n\u001b[1;32m      2\u001b[0m \u001b[0;34m\u001b[0m\u001b[0m\n\u001b[0;32m----> 3\u001b[0;31m \u001b[0mprint\u001b[0m\u001b[0;34m(\u001b[0m\u001b[0ms\u001b[0m\u001b[0;34m.\u001b[0m\u001b[0mencode\u001b[0m\u001b[0;34m(\u001b[0m\u001b[0;34m\"ASCII\"\u001b[0m\u001b[0;34m)\u001b[0m\u001b[0;34m)\u001b[0m\u001b[0;34m\u001b[0m\u001b[0;34m\u001b[0m\u001b[0m\n\u001b[0m",
      "\u001b[0;31mUnicodeEncodeError\u001b[0m: 'ascii' codec can't encode character '\\U0001f355' in position 11: ordinal not in range(128)"
     ]
    }
   ],
   "source": [
    "s = \"A slice of 🍕\"\n",
    "\n",
    "print(s.encode(\"ASCII\"))"
   ]
  },
  {
   "cell_type": "markdown",
   "id": "7d544d12",
   "metadata": {},
   "source": []
  }
 ],
 "metadata": {
  "kernelspec": {
   "display_name": "Python 3 (ipykernel)",
   "language": "python",
   "name": "python3"
  },
  "language_info": {
   "codemirror_mode": {
    "name": "ipython",
    "version": 3
   },
   "file_extension": ".py",
   "mimetype": "text/x-python",
   "name": "python",
   "nbconvert_exporter": "python",
   "pygments_lexer": "ipython3",
   "version": "3.10.0"
  }
 },
 "nbformat": 4,
 "nbformat_minor": 5
}
