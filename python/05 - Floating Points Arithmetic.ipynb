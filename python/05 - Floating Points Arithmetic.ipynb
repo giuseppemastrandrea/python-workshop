{
 "cells": [
  {
   "cell_type": "code",
   "execution_count": 34,
   "id": "fe3756dd",
   "metadata": {},
   "outputs": [],
   "source": [
    "import sys\n",
    "import decimal\n",
    "import math"
   ]
  },
  {
   "cell_type": "markdown",
   "id": "9128f691",
   "metadata": {},
   "source": [
    "Per memorizzare il numero 0, Python utilizza 24 byte. Per la memorizzazione dello 0, Python deve utilizzare 1 solo bit.\n",
    "\n",
    "Possiamo quindi dire che Python utilizza 24 byte come dimensione base per la memorizzazione di un oggetto intero.\n",
    "\n",
    "Quanto segue restituisce la dimensione degli interi 0 e 100:"
   ]
  },
  {
   "cell_type": "code",
   "execution_count": 59,
   "id": "788a8acd",
   "metadata": {},
   "outputs": [
    {
     "name": "stdout",
     "output_type": "stream",
     "text": [
      "24\n",
      "28\n"
     ]
    }
   ],
   "source": [
    "print(sys.getsizeof(0))\n",
    "print(sys.getsizeof(1))"
   ]
  },
  {
   "cell_type": "markdown",
   "id": "c8fb67a4",
   "metadata": {},
   "source": [
    "Ritorna 28 byte. Dal momento che la base è 24 byte, Python usa 4 bytes per rappresentare il numero 100.\n",
    "\n",
    "Per gli interi Python in generale utilizza tanti byte quanti ne occorrono. Maggiore è il numero, più alto sarà il numero di byte richiesto:"
   ]
  },
  {
   "cell_type": "code",
   "execution_count": 79,
   "id": "8f78f0c3",
   "metadata": {},
   "outputs": [
    {
     "name": "stdout",
     "output_type": "stream",
     "text": [
      "32\n",
      "36\n"
     ]
    }
   ],
   "source": [
    "print(sys.getsizeof(2**60 - 1))\n",
    "print(sys.getsizeof(2**60))"
   ]
  },
  {
   "cell_type": "markdown",
   "id": "57c38e79",
   "metadata": {},
   "source": [
    "Per quanto riguarda i float il discorso non è analogo agli interi. Essi sono memorizzati sempre con 64 bit (8 byte).\n",
    "\n"
   ]
  },
  {
   "cell_type": "code",
   "execution_count": 109,
   "id": "b9375187",
   "metadata": {},
   "outputs": [
    {
     "name": "stdout",
     "output_type": "stream",
     "text": [
      "24\n",
      "24\n",
      "24\n",
      "sys.float_info(max=1.7976931348623157e+308, max_exp=1024, max_10_exp=308, min=2.2250738585072014e-308, min_exp=-1021, min_10_exp=-307, dig=15, mant_dig=53, epsilon=2.220446049250313e-16, radix=2, rounds=1)\n"
     ]
    }
   ],
   "source": [
    "print(sys.getsizeof(float()))\n",
    "print(sys.getsizeof(256.2))\n",
    "print(sys.getsizeof(256.2**120))\n",
    "\n",
    "print(sys.float_info)\n"
   ]
  },
  {
   "cell_type": "code",
   "execution_count": 112,
   "id": "2d75e637",
   "metadata": {},
   "outputs": [
    {
     "name": "stdout",
     "output_type": "stream",
     "text": [
      "0.1\n"
     ]
    }
   ],
   "source": [
    "print(1/10)"
   ]
  },
  {
   "cell_type": "markdown",
   "id": "9727b636",
   "metadata": {},
   "source": [
    "Ricordiamo che, anche se il risultato stampato sembra il valore esatto di 1/10, il valore effettivo memorizzato è la frazione binaria rappresentabile più vicina.\n",
    "\n",
    "Molti numeri decimali diversi condividono la stessa frazione binaria approssimata più vicina. \n",
    "\n",
    "Ad esempio, i numeri 0,1 e 0.10000000000000001 e 0.1000000000000000055511151231257827021181583404541015625 condividono tutti la stessa approssimazione. Questo significa che ciascuno di essi potrebbe essere utilizzato nell'espressione:\n",
    "\n"
   ]
  },
  {
   "cell_type": "code",
   "execution_count": 115,
   "id": "427656eb",
   "metadata": {},
   "outputs": [
    {
     "name": "stdout",
     "output_type": "stream",
     "text": [
      "True\n",
      "True\n"
     ]
    }
   ],
   "source": [
    "print(0.1 == 0.10000000000000001)\n",
    "print(0.1000000000000000055511151231257827021181583404541015625 == 0.10000000000000001)"
   ]
  },
  {
   "cell_type": "markdown",
   "id": "08e1d774",
   "metadata": {},
   "source": [
    "Questo NON è un bug di Python. È esattamente come funziona l'aritmetica floating point nei computer; è qualcosa che accade in tutti i linguaggi che supportano l'aritmetica a virgola mobile.\n",
    "\n",
    "Per un output più piacevole alla vista, si potrebbe utilizzare la formattazione delle stringhe per produrre un numero limitato di cifre significative:"
   ]
  },
  {
   "cell_type": "code",
   "execution_count": 45,
   "id": "1e08405e",
   "metadata": {},
   "outputs": [
    {
     "name": "stdout",
     "output_type": "stream",
     "text": [
      "12 cifre in totale:       -> 3.14159265359\n",
      "5 cifre dopo la virgola:  -> 3.14159\n",
      "9 cifre in totale:        -> 3.1415926536\n",
      "Notare l'arrotondamento:  -> 3.1416\n"
     ]
    }
   ],
   "source": [
    "print(\"12 cifre in totale:       ->\", format(math.pi, '.12g'))\n",
    "print(\"5 cifre dopo la virgola:  ->\", format(math.pi, '.5f'))\n",
    "\n",
    "print(\"9 cifre in totale:        ->\", format(math.pi, '.11g'))\n",
    "print(\"Notare l'arrotondamento:  ->\", format(math.pi, '.4f'))"
   ]
  },
  {
   "cell_type": "markdown",
   "id": "7b49c1fa",
   "metadata": {},
   "source": [
    "In qualche modo, questa è solo un'illusione: stiamo semplicemente leggendo un'approssimazione fatta dal computer di un valore in virgola mobile. Da questa \"illusione\" potremmo ottenerne un'altra. Dal momento che 0.1 _non è esattamente_ 0.1, questa espressione è perfettamente lecita:"
   ]
  },
  {
   "cell_type": "code",
   "execution_count": 47,
   "id": "f12add82",
   "metadata": {},
   "outputs": [
    {
     "data": {
      "text/plain": [
       "False"
      ]
     },
     "execution_count": 47,
     "metadata": {},
     "output_type": "execute_result"
    }
   ],
   "source": [
    ".1 + .1 + .1 == .3"
   ]
  },
  {
   "cell_type": "markdown",
   "id": "3de8b9fa",
   "metadata": {},
   "source": [
    "Per risolvere questa apparente assurdità, dobbiamo arrotondare tramite la funzione `round(num, digits)` di Python, avendo cura di arrotondare non i singoli addendi del primo termine, ma l'intero risultato della somma:"
   ]
  },
  {
   "cell_type": "code",
   "execution_count": 128,
   "id": "0a9d845e",
   "metadata": {},
   "outputs": [
    {
     "name": "stdout",
     "output_type": "stream",
     "text": [
      "True\n"
     ]
    }
   ],
   "source": [
    "ndigits = 1\n",
    "print(round(.1 + .1 + .1, ndigits) == round(.3, ndigits))"
   ]
  },
  {
   "cell_type": "markdown",
   "id": "801c157e",
   "metadata": {},
   "source": [
    "Oppure possiamo usare il metodo `isclose(x, y, [rel_tol], [abs_tol])`, che ci dice se due elementi sono _vicini_ fra loro; è possibile settare anche una tolleranza."
   ]
  },
  {
   "cell_type": "markdown",
   "id": "fa9aab5b",
   "metadata": {},
   "source": [
    "Per sapere il reale numero memorizzato possiamo usare decimal.Decimal:"
   ]
  },
  {
   "cell_type": "code",
   "execution_count": 49,
   "id": "87adda66",
   "metadata": {},
   "outputs": [
    {
     "data": {
      "text/plain": [
       "Decimal('0.1000000000000000055511151231257827021181583404541015625')"
      ]
     },
     "execution_count": 49,
     "metadata": {},
     "output_type": "execute_result"
    }
   ],
   "source": [
    "decimal.Decimal(0.1)"
   ]
  },
  {
   "cell_type": "code",
   "execution_count": 52,
   "id": "1e0f6ac5",
   "metadata": {},
   "outputs": [
    {
     "name": "stdout",
     "output_type": "stream",
     "text": [
      "0.3000000000000000444089209850062616169452667236328125\n",
      "0.299999999999999988897769753748434595763683319091796875\n"
     ]
    }
   ],
   "source": [
    "print(decimal.Decimal(0.1 + 0.1 + 0.1))\n",
    "print(decimal.Decimal(0.3))"
   ]
  },
  {
   "cell_type": "code",
   "execution_count": null,
   "id": "a9de221f",
   "metadata": {},
   "outputs": [],
   "source": []
  },
  {
   "cell_type": "code",
   "execution_count": null,
   "id": "826a42d3",
   "metadata": {},
   "outputs": [],
   "source": []
  }
 ],
 "metadata": {
  "kernelspec": {
   "display_name": "Python 3 (ipykernel)",
   "language": "python",
   "name": "python3"
  },
  "language_info": {
   "codemirror_mode": {
    "name": "ipython",
    "version": 3
   },
   "file_extension": ".py",
   "mimetype": "text/x-python",
   "name": "python",
   "nbconvert_exporter": "python",
   "pygments_lexer": "ipython3",
   "version": "3.10.0"
  }
 },
 "nbformat": 4,
 "nbformat_minor": 5
}
