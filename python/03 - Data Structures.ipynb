{
 "cells": [
  {
   "cell_type": "markdown",
   "id": "13e0cdcf",
   "metadata": {},
   "source": [
    "# Strutture dati\n",
    "\n",
    "Le strutture dati sono un modo per aggregare ed organizzare dati di tipo primitivo o composto in maniera che siano più facili il loro accesso e la loro manipolazione. "
   ]
  },
  {
   "cell_type": "markdown",
   "id": "2ccff686",
   "metadata": {},
   "source": [
    "## Liste\n",
    "\n",
    "Il primo esempio di struttura dati che vediamo è la lista. Essa è un tipo built-in  di Python:"
   ]
  },
  {
   "cell_type": "code",
   "execution_count": 1,
   "id": "f82364ed",
   "metadata": {},
   "outputs": [
    {
     "name": "stdout",
     "output_type": "stream",
     "text": [
      "<class 'list'>\n",
      "La lista ha 7 elementi\n"
     ]
    }
   ],
   "source": [
    "numbers = [-2, 5, 10, 2, 1, 29, 7]\n",
    "print(type(numbers))\n",
    "\n",
    "l = len(numbers)\n",
    "\n",
    "print(\"La lista ha\", l, \"elementi\")"
   ]
  },
  {
   "cell_type": "code",
   "execution_count": 2,
   "id": "52c26318",
   "metadata": {},
   "outputs": [],
   "source": [
    "matrix = [\n",
    "    [10, 20, 30],\n",
    "    [40, 50, 60],\n",
    "    [70, 80, 90]\n",
    "]\n"
   ]
  },
  {
   "cell_type": "markdown",
   "id": "533f4567",
   "metadata": {},
   "source": [
    "### Metodi comuni delle liste\n",
    "\n",
    "Python fornisce una varietà di metodi per lavorare con le liste, tra cui:\n",
    "\n",
    "- `append()`: Aggiunge un elemento alla fine della lista.\n",
    "- `extend()`: Aggiunge tutti gli elementi di un'altra lista alla fine della lista corrente.\n",
    "- `insert()`: Inserisce un elemento in una posizione specifica.\n",
    "- `remove()`: Rimuove la prima occorrenza di un valore specifico.\n",
    "- `pop()`: Rimuove e restituisce un elemento in una posizione specifica.\n",
    "- `clear()`: Rimuove tutti gli elementi dalla lista.\n",
    "- `index()`: Restituisce l'indice della prima occorrenza di un valore.\n",
    "- `count()`: Restituisce il numero di occorrenze di un valore.\n",
    "- `sort()`: Ordina gli elementi della lista in ordine crescente o decrescente.\n",
    "- `reverse()`: Inverte l'ordine degli elementi nella lista.\n",
    "- `copy()`: Restituisce una copia superficiale della lista."
   ]
  },
  {
   "cell_type": "markdown",
   "id": "97b2c99d",
   "metadata": {},
   "source": [
    "## Tuple\n",
    "\n",
    "Una tupla è una struttura dati Python molto simile ad una lista, con le uniche differenze che:\n",
    "- una tupla è immutabile\n",
    "- accessi e le operazioni su una tupla sono generalmente più veloci rispetto a quelle su una lista"
   ]
  },
  {
   "cell_type": "code",
   "execution_count": 3,
   "id": "0d0367aa",
   "metadata": {},
   "outputs": [
    {
     "name": "stdout",
     "output_type": "stream",
     "text": [
      "<class 'tuple'>\n",
      "6\n"
     ]
    }
   ],
   "source": [
    "t = ('Giuseppe', 'Carla', 'Antonio', 'Filippa', 'Giuseppe', 'Giulia')\n",
    "\n",
    "print(type(t))\n",
    "print(len(t))"
   ]
  },
  {
   "cell_type": "code",
   "execution_count": 4,
   "id": "1648e707",
   "metadata": {},
   "outputs": [
    {
     "ename": "TypeError",
     "evalue": "'tuple' object does not support item assignment",
     "output_type": "error",
     "traceback": [
      "\u001b[0;31m---------------------------------------------------------------------------\u001b[0m",
      "\u001b[0;31mTypeError\u001b[0m                                 Traceback (most recent call last)",
      "Input \u001b[0;32mIn [4]\u001b[0m, in \u001b[0;36m<cell line: 1>\u001b[0;34m()\u001b[0m\n\u001b[0;32m----> 1\u001b[0m t[\u001b[38;5;241m0\u001b[39m] \u001b[38;5;241m=\u001b[39m \u001b[38;5;124m\"\u001b[39m\u001b[38;5;124mFilippo\u001b[39m\u001b[38;5;124m\"\u001b[39m\n",
      "\u001b[0;31mTypeError\u001b[0m: 'tuple' object does not support item assignment"
     ]
    }
   ],
   "source": [
    "t[0] = \"Filippo\""
   ]
  },
  {
   "cell_type": "code",
   "execution_count": 5,
   "id": "cad3c500",
   "metadata": {},
   "outputs": [
    {
     "name": "stdout",
     "output_type": "stream",
     "text": [
      "Giuseppe\n",
      "Carla\n",
      "Giulia\n"
     ]
    }
   ],
   "source": [
    "t = (\"Giuseppe\", \"Carla\", \"Giulia\")\n",
    "\n",
    "n1, n2, n3 = t\n",
    "print(n1)\n",
    "print(n2)\n",
    "print(n3)"
   ]
  },
  {
   "cell_type": "code",
   "execution_count": 6,
   "id": "bf2b4f0f",
   "metadata": {},
   "outputs": [
    {
     "name": "stdout",
     "output_type": "stream",
     "text": [
      "Giuseppe Carla Giulia\n"
     ]
    }
   ],
   "source": [
    "n1, n2, n3 = \"Giuseppe\", \"Carla\", \"Giulia\"\n",
    "print(n1, n2, n3)"
   ]
  },
  {
   "cell_type": "code",
   "execution_count": 7,
   "id": "90630c93",
   "metadata": {},
   "outputs": [
    {
     "name": "stdout",
     "output_type": "stream",
     "text": [
      "Before Legacy Swap: a -> 5, b -> 7\n",
      "After Legacy Swap: a -> 7, b -> 5\n",
      "Before Tuple Swap: a -> 5, b -> 7\n",
      "After Tuple Swap: a -> 7, b -> 5\n"
     ]
    }
   ],
   "source": [
    "# quick swap with tuples\n",
    "\n",
    "a = 5\n",
    "b = 7\n",
    "\n",
    "print(f\"Before Legacy Swap: a -> {a}, b -> {b}\")\n",
    "\n",
    "temp = b\n",
    "b = a\n",
    "a = temp\n",
    "print(f\"After Legacy Swap: a -> {a}, b -> {b}\")\n",
    "\n",
    "a = 5\n",
    "b = 7\n",
    "print(f\"Before Tuple Swap: a -> {a}, b -> {b}\")\n",
    "a, b = b, a\n",
    "print(f\"After Tuple Swap: a -> {a}, b -> {b}\")\n"
   ]
  },
  {
   "cell_type": "markdown",
   "id": "384ed236",
   "metadata": {},
   "source": [
    "## Set\n",
    "\n",
    "I set e le operazioni che è possibile fare su di essi ricordano molto gli insiemi in matematica. Un set in Python è un insieme di elementi :\n",
    "- non ordinati\n",
    "- univoci\n",
    "- modificabili\n",
    "\n",
    "Creazione di un set."
   ]
  },
  {
   "cell_type": "code",
   "execution_count": 8,
   "id": "f691813b",
   "metadata": {},
   "outputs": [
    {
     "name": "stdout",
     "output_type": "stream",
     "text": [
      "<class 'set'>\n",
      "{'Giuseppe', 'Enzo', 'Marianna', 'Francesca'}\n"
     ]
    }
   ],
   "source": [
    "x = {\"Giuseppe\", \"Enzo\", \"Giuseppe\"}\n",
    "\n",
    "y = set([\"Giuseppe\", \"Giuseppe\", \"Enzo\", \"Francesca\", \"Marianna\", \"Francesca\"])\n",
    "\n",
    "print(type(x))\n",
    "\n",
    "print(y)\n"
   ]
  },
  {
   "cell_type": "code",
   "execution_count": 9,
   "id": "94b47838",
   "metadata": {},
   "outputs": [
    {
     "name": "stdout",
     "output_type": "stream",
     "text": [
      "{'Giuseppe', 'Enzo'}\n"
     ]
    }
   ],
   "source": [
    "print(x)"
   ]
  },
  {
   "cell_type": "markdown",
   "id": "9c98896d",
   "metadata": {},
   "source": [
    "Notare come gli elementi non siano ripetuti anche se nell'insieme di partenza figurino 2 \"Giuseppe\".\n",
    "Si può creare un set anche con la funzione set(). Fare qualche esempio con una lista come argomento di set."
   ]
  },
  {
   "cell_type": "code",
   "execution_count": 10,
   "id": "070ea5fa",
   "metadata": {},
   "outputs": [
    {
     "name": "stdout",
     "output_type": "stream",
     "text": [
      "{'Francesca', 'Giuseppe', 'Antonella', 'Enzo', 'Andrea'}\n",
      "{'Enzo'}\n",
      "False\n"
     ]
    }
   ],
   "source": [
    "x1 = {\"Giuseppe\", \"Enzo\", \"Andrea\"}\n",
    "x2 = {\"Enzo\", \"Francesca\", \"Antonella\"}\n",
    "\n",
    "print(x1.union(x2))\n",
    "\n",
    "print(x1.intersection(x2))\n",
    "\n",
    "print(x1.issubset(x2))\n",
    "\n",
    "\n",
    "\n"
   ]
  },
  {
   "cell_type": "code",
   "execution_count": 12,
   "id": "c60f6e6f",
   "metadata": {},
   "outputs": [
    {
     "name": "stdout",
     "output_type": "stream",
     "text": [
      "{'Giuseppe', 'Enzo', 'Carla', 'Andrea'}\n"
     ]
    }
   ],
   "source": [
    "x1.add(\"Carla\")\n",
    "print(x1)"
   ]
  },
  {
   "cell_type": "code",
   "execution_count": 13,
   "id": "a5ccde63",
   "metadata": {},
   "outputs": [
    {
     "name": "stdout",
     "output_type": "stream",
     "text": [
      "{'Giuseppe', 'Enzo', 'Carla'}\n"
     ]
    }
   ],
   "source": [
    "x1.remove(\"Andrea\")\n",
    "\n",
    "print(x1)"
   ]
  },
  {
   "cell_type": "code",
   "execution_count": 15,
   "id": "71fea5c4",
   "metadata": {},
   "outputs": [
    {
     "name": "stdout",
     "output_type": "stream",
     "text": [
      "{'è', 'giornata', 'una', 'splendida', 'Oggi'}\n",
      "{'giornata', 'proprio', 'Sono', 'idea', 'splendida', 'questa', 'al', 'convinto', 'una', 'che', 'mare', 'in', 'sia', 'non', 'andare'}\n",
      "{'una', 'splendida', 'giornata'}\n"
     ]
    }
   ],
   "source": [
    "# Esempio: date due stringhe, stampare quante e quali parole in comune hanno queste 2 stringhe.\n",
    "\n",
    "s1 = \"Oggi è una splendida giornata\"\n",
    "s2 = \"Sono convinto che andare al mare proprio in questa giornata non sia una splendida idea\"\n",
    "\n",
    "set1 = set(s1.split())\n",
    "print(set1)\n",
    "\n",
    "set2 = set(s2.split())\n",
    "print(set2)\n",
    "\n",
    "print(set1.intersection(set2))"
   ]
  },
  {
   "cell_type": "markdown",
   "id": "3bee42ce",
   "metadata": {},
   "source": [
    "## Dizionari\n",
    "\n",
    "Un dizionario in Python è un insieme non ordinato di coppie chiave/valore. Le coppie sono separate fra loro da una virgola e sono racchiuse all'interno di due parentesi graffe. Fare esempio dizionario:\n",
    "\n"
   ]
  },
  {
   "cell_type": "code",
   "execution_count": 16,
   "id": "053e54f7",
   "metadata": {},
   "outputs": [],
   "source": [
    "car = {\n",
    "    \"marca\": \"Ford\",\n",
    "    \"modello\": \"Focus\"    \n",
    "}"
   ]
  },
  {
   "cell_type": "code",
   "execution_count": 18,
   "id": "055fa8d1",
   "metadata": {},
   "outputs": [
    {
     "name": "stdout",
     "output_type": "stream",
     "text": [
      "Ford\n",
      "Ford\n",
      "None\n"
     ]
    },
    {
     "ename": "KeyError",
     "evalue": "'motore'",
     "output_type": "error",
     "traceback": [
      "\u001b[0;31m---------------------------------------------------------------------------\u001b[0m",
      "\u001b[0;31mKeyError\u001b[0m                                  Traceback (most recent call last)",
      "Input \u001b[0;32mIn [18]\u001b[0m, in \u001b[0;36m<cell line: 6>\u001b[0;34m()\u001b[0m\n\u001b[1;32m      2\u001b[0m \u001b[38;5;28mprint\u001b[39m(car\u001b[38;5;241m.\u001b[39mget(\u001b[38;5;124m\"\u001b[39m\u001b[38;5;124mmarca\u001b[39m\u001b[38;5;124m\"\u001b[39m))\n\u001b[1;32m      4\u001b[0m \u001b[38;5;28mprint\u001b[39m(car\u001b[38;5;241m.\u001b[39mget(\u001b[38;5;124m\"\u001b[39m\u001b[38;5;124mmotore\u001b[39m\u001b[38;5;124m\"\u001b[39m))\n\u001b[0;32m----> 6\u001b[0m \u001b[38;5;28mprint\u001b[39m(\u001b[43mcar\u001b[49m\u001b[43m[\u001b[49m\u001b[38;5;124;43m'\u001b[39;49m\u001b[38;5;124;43mmotore\u001b[39;49m\u001b[38;5;124;43m'\u001b[39;49m\u001b[43m]\u001b[49m)\n",
      "\u001b[0;31mKeyError\u001b[0m: 'motore'"
     ]
    }
   ],
   "source": [
    "print(car[\"marca\"])\n",
    "print(car.get(\"marca\"))\n",
    "\n",
    "print(car.get(\"motore\"))\n",
    "\n",
    "print(car['motore'])"
   ]
  },
  {
   "cell_type": "code",
   "execution_count": 19,
   "id": "489d0bed",
   "metadata": {},
   "outputs": [
    {
     "name": "stdout",
     "output_type": "stream",
     "text": [
      "None\n"
     ]
    }
   ],
   "source": [
    "print(car.get(\"Motore\", None)) # None è il valore di default"
   ]
  },
  {
   "cell_type": "code",
   "execution_count": 20,
   "id": "1a4a2cef",
   "metadata": {},
   "outputs": [
    {
     "name": "stdout",
     "output_type": "stream",
     "text": [
      "benzina\n"
     ]
    }
   ],
   "source": [
    "car[\"motore\"] = {\n",
    "    \"alimentazione\": \"benzina\",\n",
    "    \"cilindrata\": 1.6,\n",
    "    \"cavalli\": 125\n",
    "}\n",
    "\n",
    "print(car.get(\"motore\").get(\"alimentazione\"))"
   ]
  },
  {
   "cell_type": "code",
   "execution_count": 21,
   "id": "1ea2eff3",
   "metadata": {},
   "outputs": [
    {
     "name": "stdout",
     "output_type": "stream",
     "text": [
      "Un film ha queste caratteristiche: \n",
      "\n",
      "titolo\n",
      "regista\n",
      "attori\n",
      "generi\n"
     ]
    }
   ],
   "source": [
    "movie = {\n",
    "    \"titolo\": \"C'era una volta il West\",\n",
    "    \"regista\": \"Sergio Leone\",\n",
    "    \"attori\": [\"Claudia Cardinale\", \"Henry Fonda\", \"Charles Bronson\"],\n",
    "    \"generi\": [\"Western\", \"Drammatico\"]\n",
    "}\n",
    "\n",
    "print(\"Un film ha queste caratteristiche: \\n\")\n",
    "\n",
    "for k in movie.keys():\n",
    "    print(k)\n"
   ]
  },
  {
   "cell_type": "markdown",
   "id": "4cc7dc38",
   "metadata": {},
   "source": [
    "### Iterare dizionari\n",
    "\n",
    "```python\n",
    "for value in my_dict.values():\n",
    "    print(value)\n",
    "    \n",
    "    \n",
    "for key, value in my_dict.items():\n",
    "    print(f\"Chiave: {key}, Valore: {value}\")\n",
    "    \n",
    "    \n",
    "for key in sorted(my_dict):\n",
    "    print(f\"Chiave: {key}, Valore: {my_dict[key]}\")\n",
    "    \n",
    "for key in my_dict:\n",
    "    # chiavi non ordinate\n",
    "    print(f\"Chiave: {key}, Valore: {my_dict[key]}\"\n",
    "```\n",
    "\n",
    "\n"
   ]
  },
  {
   "cell_type": "markdown",
   "id": "abceb27c",
   "metadata": {},
   "source": [
    "# Hands On\n",
    "\n",
    "##  Simulazione di un Gioco da Tavolo\n",
    "\n",
    "Scrivi un programma che simuli un gioco da tavolo per più giocatori. Il gioco deve consentire ai giocatori di lanciare un dado, muoversi su un tabellone e raccogliere punti. Il programma deve gestire i turni dei giocatori e determinare il vincitore.\n",
    "\n",
    "### Requisiti:\n",
    "- Una funzione `lancia_dado` per simulare il lancio di un dado.\n",
    "- Una funzione `muovi_giocatore` per muovere un giocatore sul tabellone.\n",
    "- Una funzione `calcola_punti` per calcolare i punti di un giocatore.\n",
    "- Utilizza una lista di dizionari per memorizzare i giocatori e i loro punteggi.\n",
    "- Utilizza cicli e controllo di flusso per gestire i turni dei giocatori e determinare il vincitore.\n",
    "\n",
    "### Suggerimenti\n",
    "\n",
    "#### Struttura di Base\n",
    "\n",
    "1. **Definizione del Tabellone:**\n",
    "   - Decidi la dimensione del tabellone. Ad esempio, potrebbe essere una lista di 30 caselle.\n",
    "   - Ogni casella può contenere un valore di punteggio (es. +1, +2, -1, ecc.).\n",
    "\n",
    "2. **Gestione dei Giocatori:**\n",
    "   - Utilizza una lista di dizionari per memorizzare i giocatori. Ogni dizionario contiene il nome del giocatore, la posizione attuale e il punteggio.\n",
    "\n",
    "#### Funzioni Principali\n",
    "\n",
    "1. **Funzione `lancia_dado`:**\n",
    "   - Questa funzione simula il lancio di un dado a sei facce e restituisce un numero casuale tra 1 e 6.\n",
    "   - Utilizza il modulo [`random`](https://docs.python.org/3/library/random.html) per generare il numero casuale.\n",
    "\n",
    "2. **Funzione `muovi_giocatore`:**\n",
    "   - Questa funzione prende il giocatore e il numero ottenuto dal lancio del dado.\n",
    "   - Aggiorna la posizione del giocatore sul tabellone in base al valore del dado.\n",
    "   - Gestisce il caso in cui il giocatore supera l'ultima casella del tabellone (es. può ricominciare dall'inizio o fermarsi all'ultima casella).\n",
    "\n",
    "3. **Funzione `calcola_punti`:**\n",
    "   - Questa funzione aggiorna il punteggio del giocatore in base alla casella su cui si trova.\n",
    "   - Ad esempio, se il giocatore si trova su una casella con +2 punti, il punteggio del giocatore viene aumentato di 2.\n",
    "\n",
    "#### Esempio di Struttura dei Dati\n",
    "\n",
    "- Tabellone:\n",
    "  ```python\n",
    "  tabellone = [0, +1, -1, +2, 0, +1, -2, +3, 0, -1, ...]\n"
   ]
  },
  {
   "cell_type": "code",
   "execution_count": 1,
   "id": "a3ffc8fe",
   "metadata": {},
   "outputs": [
    {
     "name": "stdout",
     "output_type": "stream",
     "text": [
      "[10, 20, 15, 1, 5]\n",
      "[1, 5, 10, 15, 20]\n"
     ]
    }
   ],
   "source": [
    "l = [\n",
    "    \n",
    "]\n",
    "print(l)\n",
    "l.sort()\n",
    "\n",
    "print(l)"
   ]
  },
  {
   "cell_type": "code",
   "execution_count": 2,
   "id": "a17feace",
   "metadata": {},
   "outputs": [
    {
     "name": "stdout",
     "output_type": "stream",
     "text": [
      "CICCIO\n"
     ]
    }
   ],
   "source": [
    "def func():\n",
    "    a = \"CIAO\" \n",
    "    b = \"CICCIO\"\n",
    "    \n",
    "    return a, b  # equivalente a return (a, b)\n",
    "\n",
    "greet, name = func()\n",
    "\n",
    "print(name)"
   ]
  },
  {
   "cell_type": "code",
   "execution_count": null,
   "id": "165771b5",
   "metadata": {},
   "outputs": [],
   "source": []
  }
 ],
 "metadata": {
  "kernelspec": {
   "display_name": "Python 3 (ipykernel)",
   "language": "python",
   "name": "python3"
  },
  "language_info": {
   "codemirror_mode": {
    "name": "ipython",
    "version": 3
   },
   "file_extension": ".py",
   "mimetype": "text/x-python",
   "name": "python",
   "nbconvert_exporter": "python",
   "pygments_lexer": "ipython3",
   "version": "3.10.0"
  }
 },
 "nbformat": 4,
 "nbformat_minor": 5
}
