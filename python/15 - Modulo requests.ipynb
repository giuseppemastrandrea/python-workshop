{
 "cells": [
  {
   "cell_type": "code",
   "execution_count": 1,
   "id": "aae1cbb4-6248-4e29-ae5f-6010327896be",
   "metadata": {},
   "outputs": [
    {
     "name": "stdout",
     "output_type": "stream",
     "text": [
      "Requirement already satisfied: requests in ./venv-pirelli/lib/python3.10/site-packages (2.32.3)\n",
      "Requirement already satisfied: urllib3<3,>=1.21.1 in ./venv-pirelli/lib/python3.10/site-packages (from requests) (2.2.2)\n",
      "Requirement already satisfied: charset-normalizer<4,>=2 in ./venv-pirelli/lib/python3.10/site-packages (from requests) (3.3.2)\n",
      "Requirement already satisfied: certifi>=2017.4.17 in ./venv-pirelli/lib/python3.10/site-packages (from requests) (2024.7.4)\n",
      "Requirement already satisfied: idna<4,>=2.5 in ./venv-pirelli/lib/python3.10/site-packages (from requests) (3.7)\n",
      "\u001b[33mWARNING: You are using pip version 21.2.3; however, version 24.1.2 is available.\n",
      "You should consider upgrading via the '/Users/giumast/workspace/pirelli-python-2/venv-pirelli/bin/python -m pip install --upgrade pip' command.\u001b[0m\n"
     ]
    }
   ],
   "source": [
    "!pip install requests"
   ]
  },
  {
   "cell_type": "code",
   "execution_count": 2,
   "id": "1e9f62e0-107f-4162-8c1d-241889ad6a0b",
   "metadata": {},
   "outputs": [
    {
     "name": "stdout",
     "output_type": "stream",
     "text": [
      "200\n",
      "{'current_user_url': 'https://api.github.com/user', 'current_user_authorizations_html_url': 'https://github.com/settings/connections/applications{/client_id}', 'authorizations_url': 'https://api.github.com/authorizations', 'code_search_url': 'https://api.github.com/search/code?q={query}{&page,per_page,sort,order}', 'commit_search_url': 'https://api.github.com/search/commits?q={query}{&page,per_page,sort,order}', 'emails_url': 'https://api.github.com/user/emails', 'emojis_url': 'https://api.github.com/emojis', 'events_url': 'https://api.github.com/events', 'feeds_url': 'https://api.github.com/feeds', 'followers_url': 'https://api.github.com/user/followers', 'following_url': 'https://api.github.com/user/following{/target}', 'gists_url': 'https://api.github.com/gists{/gist_id}', 'hub_url': 'https://api.github.com/hub', 'issue_search_url': 'https://api.github.com/search/issues?q={query}{&page,per_page,sort,order}', 'issues_url': 'https://api.github.com/issues', 'keys_url': 'https://api.github.com/user/keys', 'label_search_url': 'https://api.github.com/search/labels?q={query}&repository_id={repository_id}{&page,per_page}', 'notifications_url': 'https://api.github.com/notifications', 'organization_url': 'https://api.github.com/orgs/{org}', 'organization_repositories_url': 'https://api.github.com/orgs/{org}/repos{?type,page,per_page,sort}', 'organization_teams_url': 'https://api.github.com/orgs/{org}/teams', 'public_gists_url': 'https://api.github.com/gists/public', 'rate_limit_url': 'https://api.github.com/rate_limit', 'repository_url': 'https://api.github.com/repos/{owner}/{repo}', 'repository_search_url': 'https://api.github.com/search/repositories?q={query}{&page,per_page,sort,order}', 'current_user_repositories_url': 'https://api.github.com/user/repos{?type,page,per_page,sort}', 'starred_url': 'https://api.github.com/user/starred{/owner}{/repo}', 'starred_gists_url': 'https://api.github.com/gists/starred', 'topic_search_url': 'https://api.github.com/search/topics?q={query}{&page,per_page}', 'user_url': 'https://api.github.com/users/{user}', 'user_organizations_url': 'https://api.github.com/user/orgs', 'user_repositories_url': 'https://api.github.com/users/{user}/repos{?type,page,per_page,sort}', 'user_search_url': 'https://api.github.com/search/users?q={query}{&page,per_page,sort,order}'}\n"
     ]
    }
   ],
   "source": [
    "import requests\n",
    "\n",
    "response = requests.get('https://api.github.com')\n",
    "print(response.status_code)  # Stampa il codice di stato della risposta\n",
    "print(response.json())       # Stampa il contenuto della risposta in formato JSON"
   ]
  },
  {
   "cell_type": "markdown",
   "id": "7a886682-a73b-4af9-85dc-8423b10bc242",
   "metadata": {},
   "source": [
    "#### Funzionalità Principali\n",
    "\n",
    "-   **GET**: Recupera dati da un URL.\n",
    "    `response = requests.get('https://api.github.com')` \n",
    "    \n",
    "-   **POST**: Invia dati a un URL:\n",
    "    `payload = {'key1': 'value1', 'key2': 'value2'}\n",
    "    response = requests.post('https://httpbin.org/post', data=payload)` \n",
    "    \n",
    "-   **PUT**: Aggiorna dati a un URL.\n",
    "    `response = requests.put('https://httpbin.org/put', data={'key': 'value'})` \n",
    "    \n",
    "-   **DELETE**: Cancella dati da un URL.\n",
    "    `response = requests.delete('https://httpbin.org/delete')` \n",
    "    \n",
    "-   **Headers**: Personalizza le intestazioni HTTP.\n",
    "    \n",
    "    `headers = {'user-agent': 'my-app/0.0.1'}\n",
    "    response = requests.get('https://api.github.com', headers=headers)` \n",
    "    \n",
    "-   **Params**: Passa parametri di query.\n",
    "    \n",
    "    `params = {'q': 'requests+language:python'}\n",
    "    response = requests.get('https://api.github.com/search/repositories', params=params)` \n",
    "    \n",
    "-   **Timeouts**: Specifica un timeout per la richiesta.\n",
    "    \n",
    "    `response = requests.get('https://api.github.com', timeout=5)`"
   ]
  },
  {
   "cell_type": "markdown",
   "id": "54d98f1c-4dd2-4d31-ad20-06384c17d6d8",
   "metadata": {},
   "source": [
    "## Esercizio: \n",
    "\n",
    "Scrivi un programma che utilizza `argparse` per accettare un elenco di URL come argomenti da linea di comando e scarica i file da questi URL. Implementa due versioni del programma: \n",
    "- una che faccia download sequenziali\n",
    "- una che faccia uso di thread\n",
    "\n",
    "### Esempio di Esecuzione\n",
    "\n",
    "Esegui il programma dalla linea di comando passando gli URL come argomenti:\n",
    "\n",
    "```\n",
    "python download.py https://www.example.com/file1.txt https://www.example.com/file2.txt https://www.example.com/file3.txt\n",
    "```\n",
    "\n",
    "#### Utilizzo di Argparse\n",
    "\n",
    "Di seguito è riportato un esempio di utilizzo di `argparse` per gestire gli argomenti da linea di comando in Python:\n",
    "\n",
    "```python\n",
    "import argparse\n",
    "\n",
    "def main(urls):\n",
    "    for idx, url in enumerate(urls):\n",
    "        file_name = f\"file{idx + 1}.txt\"\n",
    "        print(f\"URL: {url}, File Name: {file_name}\")\n",
    "\n",
    "if __name__ == '__main__':\n",
    "    parser = argparse.ArgumentParser()\n",
    "    parser.add_argument('urls', nargs='+', help='URLs of the files to download')\n",
    "    args = parser.parse_args()\n",
    "    main(args.urls)\n",
    "\n",
    "\n",
    "```"
   ]
  },
  {
   "cell_type": "code",
   "execution_count": null,
   "id": "dae2b4ad-8744-43c4-9a84-912bf9587ff7",
   "metadata": {},
   "outputs": [],
   "source": []
  }
 ],
 "metadata": {
  "kernelspec": {
   "display_name": "Python 3 (ipykernel)",
   "language": "python",
   "name": "python3"
  },
  "language_info": {
   "codemirror_mode": {
    "name": "ipython",
    "version": 3
   },
   "file_extension": ".py",
   "mimetype": "text/x-python",
   "name": "python",
   "nbconvert_exporter": "python",
   "pygments_lexer": "ipython3",
   "version": "3.10.0"
  }
 },
 "nbformat": 4,
 "nbformat_minor": 5
}
