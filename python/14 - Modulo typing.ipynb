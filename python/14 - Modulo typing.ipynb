{
 "cells": [
  {
   "cell_type": "markdown",
   "id": "ead4217b-1be5-493c-a331-00be7970023e",
   "metadata": {},
   "source": [
    "## Introduzione ai Type Hints e al Modulo Typing\n",
    "\n",
    "### Cos'è il Type Hinting?\n",
    "\n",
    "Il type hinting in Python è una funzionalità introdotta per la prima volta nella versione 3.5 che permette di indicare i tipi di variabili, parametri di funzione e valori di ritorno. Sebbene Python sia un linguaggio a tipizzazione dinamica, i type hints forniscono un modo per rendere il codice più leggibile e aiutare gli strumenti di analisi statica a rilevare errori di tipo.\n",
    "\n",
    "### Perché Usare i Type Hints?\n",
    "\n",
    "1.  **Migliore Leggibilità**: I type hints rendono chiaro quale tipo di dato ci si aspetta in una funzione o in una variabile.\n",
    "2.  **Strumenti di Analisi Statica**: Strumenti come mypy possono usare i type hints per rilevare errori prima dell'esecuzione del codice.\n",
    "3.  **Documentazione**: I type hints servono come documentazione incorporata, migliorando la comprensione del codice per altri sviluppatori."
   ]
  },
  {
   "cell_type": "code",
   "execution_count": 1,
   "id": "538914b0-9b4c-4f31-8826-df8e2097cdb7",
   "metadata": {},
   "outputs": [
    {
     "name": "stdout",
     "output_type": "stream",
     "text": [
      "Hello, GIUSEPPE\n",
      "Hello, 3.14\n"
     ]
    }
   ],
   "source": [
    "def greet(name: str) -> str:\n",
    "    return f\"Hello, {name}\"\n",
    "\n",
    "print(greet(\"GIUSEPPE\"))\n",
    "print(greet(3.14))\n"
   ]
  },
  {
   "cell_type": "markdown",
   "id": "1a3530e6-50f4-4fe4-8a2f-fe539937b895",
   "metadata": {},
   "source": [
    "## Tipi aggiuntivi\n",
    "\n",
    "Il modulo typing fornisce tipi aggiuntivi che non sono presenti di default. Ecco alcuni esempi:"
   ]
  },
  {
   "cell_type": "code",
   "execution_count": 6,
   "id": "4ddeeb82-31de-4c30-a387-f14185b135e5",
   "metadata": {},
   "outputs": [],
   "source": [
    "from typing import List, Dict\n",
    "\n",
    "names: List[str] = [\"Alice\", \"Bob\"]\n",
    "ages: Dict[str, int] = {\"Alice\": 30, \"Bob\": 25}\n"
   ]
  },
  {
   "cell_type": "code",
   "execution_count": 7,
   "id": "a1d9b76d-4352-46c6-999d-fe6eabfd0a92",
   "metadata": {},
   "outputs": [],
   "source": [
    "from typing import Union\n",
    "\n",
    "def process(value: Union[int, str]) -> None:\n",
    "    print(value)\n"
   ]
  },
  {
   "cell_type": "code",
   "execution_count": 8,
   "id": "3bc2ab79-1f93-41ef-95b9-8656f4baf37c",
   "metadata": {},
   "outputs": [],
   "source": [
    "from typing import Optional\n",
    "\n",
    "def greet(name: Optional[str] = None) -> str:\n",
    "    if name:\n",
    "        return f\"Hello, {name}\"\n",
    "    else:\n",
    "        return \"Hello, stranger\"\n"
   ]
  },
  {
   "cell_type": "code",
   "execution_count": 9,
   "id": "b9f49ff9-068a-4e10-9d97-d6d58274ef90",
   "metadata": {},
   "outputs": [],
   "source": [
    "from typing import Callable\n",
    "\n",
    "def execute(func: Callable[[int, int], int], a: int, b: int) -> int:\n",
    "    return func(a, b)"
   ]
  },
  {
   "cell_type": "code",
   "execution_count": 10,
   "id": "a27b4a0a-233a-48d4-9d9d-8e4982ce7253",
   "metadata": {},
   "outputs": [],
   "source": [
    "from typing import Any\n",
    "\n",
    "def process(item: Any) -> None:\n",
    "    print(item)"
   ]
  },
  {
   "cell_type": "code",
   "execution_count": 11,
   "id": "ea8770c4-4dd7-491d-9f93-55080527fbe5",
   "metadata": {},
   "outputs": [],
   "source": [
    "from typing import TypeVar, Generic\n",
    "\n",
    "T = TypeVar('T')\n",
    "\n",
    "class Box(Generic[T]):\n",
    "    def __init__(self, content: T):\n",
    "        self.content = content\n",
    "\n",
    "box = Box \n"
   ]
  },
  {
   "cell_type": "code",
   "execution_count": 12,
   "id": "a2732752-21d2-4607-936d-d0ad5ca569b9",
   "metadata": {},
   "outputs": [
    {
     "name": "stdout",
     "output_type": "stream",
     "text": [
      "6\n",
      "3\n"
     ]
    }
   ],
   "source": [
    "from typing import List, Dict, Union, Optional\n",
    "\n",
    "def process_data(data: Union[List[int], Dict[str, int]]) -> Optional[int]:\n",
    "    if isinstance(data, list):\n",
    "        return sum(data)\n",
    "    elif isinstance(data, dict):\n",
    "        return sum(data.values())\n",
    "    return None\n",
    "\n",
    "print(process_data([1, 2, 3]))  # Output: 6\n",
    "print(process_data({\"a\": 1, \"b\": 2}))  # Output: 3"
   ]
  },
  {
   "cell_type": "markdown",
   "id": "7e6d8e35-46ee-4956-a6f5-0a6616b2c126",
   "metadata": {},
   "source": [
    "## Cenni a Pydantic\n",
    "\n",
    "\n",
    "Python, di default, non esegue il controllo dei tipi a runtime basato sui type hints. Tuttavia, ci sono librerie di terze parti che possono aiutare a fare questo. Una delle più popolari è `pydantic`, che fornisce un sistema di validazione dei dati basato sui type hints.\n",
    "\n",
    "Ecco un esempio di come usare `pydantic` per ottenere il controllo dei tipi a runtime:"
   ]
  },
  {
   "cell_type": "code",
   "execution_count": 13,
   "id": "75a65d3d-cf04-4b87-a72a-6a8b92690593",
   "metadata": {},
   "outputs": [
    {
     "name": "stdout",
     "output_type": "stream",
     "text": [
      "Collecting pydantic\n",
      "  Downloading pydantic-2.8.2-py3-none-any.whl (423 kB)\n",
      "\u001b[K     |████████████████████████████████| 423 kB 2.1 MB/s eta 0:00:01\n",
      "\u001b[?25hRequirement already satisfied: typing-extensions>=4.6.1 in ./venv-pirelli/lib/python3.10/site-packages (from pydantic) (4.12.2)\n",
      "Collecting annotated-types>=0.4.0\n",
      "  Using cached annotated_types-0.7.0-py3-none-any.whl (13 kB)\n",
      "Collecting pydantic-core==2.20.1\n",
      "  Downloading pydantic_core-2.20.1-cp310-cp310-macosx_11_0_arm64.whl (1.8 MB)\n",
      "\u001b[K     |████████████████████████████████| 1.8 MB 10.0 MB/s eta 0:00:01\n",
      "\u001b[?25hInstalling collected packages: pydantic-core, annotated-types, pydantic\n",
      "Successfully installed annotated-types-0.7.0 pydantic-2.8.2 pydantic-core-2.20.1\n",
      "\u001b[33mWARNING: You are using pip version 21.2.3; however, version 24.1.2 is available.\n",
      "You should consider upgrading via the '/Users/giumast/workspace/pirelli-python-2/venv-pirelli/bin/python -m pip install --upgrade pip' command.\u001b[0m\n"
     ]
    }
   ],
   "source": [
    "!pip install pydantic"
   ]
  },
  {
   "cell_type": "code",
   "execution_count": 14,
   "id": "9ba9f811-000e-4177-a13b-fd99590c7d58",
   "metadata": {},
   "outputs": [
    {
     "name": "stdout",
     "output_type": "stream",
     "text": [
      "Hello, Alice\n",
      "1 validation error for GreetModel\n",
      "name\n",
      "  Input should be a valid string [type=string_type, input_value=3.14, input_type=float]\n",
      "    For further information visit https://errors.pydantic.dev/2.8/v/string_type\n"
     ]
    }
   ],
   "source": [
    "from pydantic import BaseModel, ValidationError\n",
    "\n",
    "class GreetModel(BaseModel):\n",
    "    name: str\n",
    "\n",
    "def greet(data: GreetModel) -> str:\n",
    "    return f\"Hello, {data.name}\"\n",
    "\n",
    "# Test con un input valido\n",
    "try:\n",
    "    data = GreetModel(name=\"Alice\")\n",
    "    print(greet(data))\n",
    "except ValidationError as e:\n",
    "    print(e)\n",
    "\n",
    "# Test con un input non valido\n",
    "try:\n",
    "    data = GreetModel(name=3.14)  # Questo solleverà un ValidationError\n",
    "    print(greet(data))\n",
    "except ValidationError as e:\n",
    "    print(e)\n"
   ]
  },
  {
   "cell_type": "code",
   "execution_count": null,
   "id": "6d60044c-d8e1-4e2c-ac37-b2097a937431",
   "metadata": {},
   "outputs": [],
   "source": []
  }
 ],
 "metadata": {
  "kernelspec": {
   "display_name": "Python 3 (ipykernel)",
   "language": "python",
   "name": "python3"
  },
  "language_info": {
   "codemirror_mode": {
    "name": "ipython",
    "version": 3
   },
   "file_extension": ".py",
   "mimetype": "text/x-python",
   "name": "python",
   "nbconvert_exporter": "python",
   "pygments_lexer": "ipython3",
   "version": "3.10.0"
  }
 },
 "nbformat": 4,
 "nbformat_minor": 5
}
