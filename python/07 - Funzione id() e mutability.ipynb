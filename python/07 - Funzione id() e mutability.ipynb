{
 "cells": [
  {
   "cell_type": "code",
   "execution_count": 1,
   "id": "b9b37e36",
   "metadata": {},
   "outputs": [
    {
     "name": "stdout",
     "output_type": "stream",
     "text": [
      "3.13.1\n"
     ]
    }
   ],
   "source": [
    "import sys\n",
    "\n",
    "\n",
    "from platform import python_version\n",
    "\n",
    "print(python_version())"
   ]
  },
  {
   "cell_type": "markdown",
   "id": "f84a2ac3",
   "metadata": {},
   "source": [
    "`id()` è una funzione built-in in Python. Ci dà la possibilità di controllare **l'identificatore univoco** di un oggetto. In CPython, esso coincide con l'indirizzo di memoria RAM in cui si trova l'oggetto. Diamo un'occhiata a come funziona. Ricordiamo che in Python **tutto è un oggetto**, visto che a basso livello tutto punta ad una struttura dati complessa.\n",
    "\n",
    "Ad esempio, questa è la struttura utilizzata nell'implementazione di Python più diffusa (CPython, cioè Python basato su C) per un `long integer`:\n",
    "\n",
    "    struct _longobject {\n",
    "        long ob_refcnt;\n",
    "        PyTypeObject *ob_type;\n",
    "        size_t ob_size;\n",
    "        long ob_digit[1];\n",
    "    };\n",
    "    \n",
    "`ob_refcnt`, a reference count that helps Python silently handle memory allocation and deallocation<br />\n",
    "`ob_type`, which encodes the type of the variable<br />\n",
    "`ob_size`, which specifies the size of the following data members<br />\n",
    "`ob_digit`, which contains the actual integer value that we expect the Python variable to represent."
   ]
  },
  {
   "cell_type": "markdown",
   "id": "9081ad41",
   "metadata": {},
   "source": [
    "Assegnamo ad `a` il valore `500` e controlliamone l'id."
   ]
  },
  {
   "cell_type": "code",
   "execution_count": 2,
   "id": "710eeece",
   "metadata": {},
   "outputs": [
    {
     "name": "stdout",
     "output_type": "stream",
     "text": [
      "500\n",
      "4464604304\n",
      "0x10a1c7490\n"
     ]
    }
   ],
   "source": [
    "a = 500\n",
    "\n",
    "print(a)\n",
    "print(id(a))\n",
    "print(hex(id(a)))"
   ]
  },
  {
   "cell_type": "markdown",
   "id": "d2edaa48",
   "metadata": {},
   "source": [
    "`id()` punta a una posizione specifica in memoria. Facciamo qualche test:"
   ]
  },
  {
   "cell_type": "code",
   "execution_count": 3,
   "id": "88a34cef",
   "metadata": {},
   "outputs": [
    {
     "name": "stdout",
     "output_type": "stream",
     "text": [
      "True\n",
      "False\n",
      "False\n"
     ]
    }
   ],
   "source": [
    "a = 500\n",
    "b = 500\n",
    "\n",
    "print(a == b)\n",
    "print(id(a) == id(b))\n",
    "print(a is b)"
   ]
  },
  {
   "cell_type": "markdown",
   "id": "0fec1316",
   "metadata": {},
   "source": [
    "Ecco la prima \"stranezza\". Abbiamo due comportamenti diversi a seconda dell'operatore che stiamo utilizzando:\n",
    "- `==` confronta i **valori** degli operandi\n",
    "- `is` confronta gli **id** degli operandi\n",
    "\n",
    "#### N.B. alla luce di ciò, confrontare con un `==` due `id` di due variabili corrisponde ad usare l'operatore `is` fra le variabili"
   ]
  },
  {
   "cell_type": "markdown",
   "id": "d7234606",
   "metadata": {},
   "source": [
    "Vediamo cosa succede nel caso di stringhe:\n"
   ]
  },
  {
   "cell_type": "code",
   "execution_count": 4,
   "id": "d17d8344",
   "metadata": {},
   "outputs": [
    {
     "name": "stdout",
     "output_type": "stream",
     "text": [
      "False\n",
      "True\n"
     ]
    }
   ],
   "source": [
    "a = \"Test String\"\n",
    "b = \"Test String\"\n",
    "print(a is b)\n",
    "print(a == b)"
   ]
  },
  {
   "cell_type": "markdown",
   "id": "7c789392",
   "metadata": {},
   "source": [
    "Stessa cosa che abbiamo visto nel caso precedente."
   ]
  },
  {
   "cell_type": "code",
   "execution_count": 5,
   "id": "17059230",
   "metadata": {},
   "outputs": [
    {
     "name": "stdout",
     "output_type": "stream",
     "text": [
      "True\n",
      "True\n"
     ]
    }
   ],
   "source": [
    "list1 = [1, 2, 3]\n",
    "list2 = list1\n",
    "\n",
    "print(list1 is list2)\n",
    "print(list1 == list2)"
   ]
  },
  {
   "cell_type": "markdown",
   "id": "9df32efa",
   "metadata": {},
   "source": [
    "In questo caso abbiamo creato una lista e poi abbiamo assegnato ad un'altra variabile la lista appena creata. In casi come questi, si parla di `aliasing`. In realtà quello che abbiamo fatto è fare in modo che un **reference** della prima lista fosse copiato nella seconda lista. Questo ha delle implicazioni. Se facciamo una modifica ad un valore nella variabile `list2`, **il cambiamento si rifletterà anche sul `list1`**!\n",
    "\n"
   ]
  },
  {
   "cell_type": "code",
   "execution_count": 6,
   "id": "21424f1c",
   "metadata": {},
   "outputs": [
    {
     "name": "stdout",
     "output_type": "stream",
     "text": [
      "list1 [1, 2, 3, 4]\n",
      "list2 [1, 2, 3, 4]\n",
      "True\n",
      "True\n"
     ]
    }
   ],
   "source": [
    "list2.append(4)\n",
    "print(\"list1\", list1)\n",
    "print(\"list2\", list2)\n",
    "\n",
    "print(list1 is list2)\n",
    "print(list1 == list2)"
   ]
  },
  {
   "cell_type": "markdown",
   "id": "3a8c36c8",
   "metadata": {},
   "source": [
    "Ovviamente anche cambiare un valore non va a modificare l'id della lista: l'indirizzo di memoria rimarrà sempre quello anche dopo un'assegnazione del genere"
   ]
  },
  {
   "cell_type": "code",
   "execution_count": 7,
   "id": "fb26a254",
   "metadata": {},
   "outputs": [
    {
     "name": "stdout",
     "output_type": "stream",
     "text": [
      "['Gatto', 'Cane', 'Coniglio'] -> 0x10a3b0bc0\n",
      "['Mucca', 'Cane', 'Coniglio'] -> 0x10a3b0bc0\n"
     ]
    }
   ],
   "source": [
    "my_list = ['Gatto', 'Cane', 'Coniglio']\n",
    "print(my_list, '->', hex(id(my_list)))\n",
    "my_list[0] = 'Mucca'\n",
    "print(my_list, '->', hex(id(my_list)))"
   ]
  },
  {
   "cell_type": "markdown",
   "id": "095f4bae",
   "metadata": {},
   "source": [
    "Il cambio dell'elemento nella lista è stato effettuato correttamente, ma l'indirizzo della variabile `my_list` **non è cambiato**. Il valore è stato cambiato sulla stessa copia della variabile originale. Questo è un esempio di **mutability**."
   ]
  },
  {
   "cell_type": "markdown",
   "id": "14226598",
   "metadata": {},
   "source": [
    "Vediamo che succede ora ai singoli valori della lista `my_list`:"
   ]
  },
  {
   "cell_type": "code",
   "execution_count": 8,
   "id": "b6a3f1b7",
   "metadata": {},
   "outputs": [
    {
     "name": "stdout",
     "output_type": "stream",
     "text": [
      "Indirizzo della lista: 0x10a3b0bc0\n",
      "Indirizzo del primo el. della lista: 0x10a3e9200\n",
      "Indirizzo della lista: 0x10a3b0bc0\n",
      "Indirizzo del primo el. della lista: 0x10a3e9770\n"
     ]
    }
   ],
   "source": [
    "print(f\"Indirizzo della lista: {hex(id(my_list))}\")\n",
    "print(f\"Indirizzo del primo el. della lista: {hex(id(my_list[0]))}\")\n",
    "my_list[0] = \"Asino\"\n",
    "print(f\"Indirizzo della lista: {hex(id(my_list))}\")\n",
    "print(f\"Indirizzo del primo el. della lista: {hex(id(my_list[0]))}\")"
   ]
  },
  {
   "cell_type": "markdown",
   "id": "5d4baa37",
   "metadata": {},
   "source": [
    "L'id del primo elemento è una certa locazione di memoria quando il primo elemento è \"Mucca\". Quando cambiamo il primo elemento e lo settiamo ad \"Asino\" **la cella di memoria in cui viene memorizzata la stringa cambia**. Invece la lista mantiene lo stesso indirizzo."
   ]
  },
  {
   "cell_type": "markdown",
   "id": "1db815fa",
   "metadata": {},
   "source": [
    "Un oggetto immutabile è un oggetto che **non è modificabile 'inline'** e il suo stato non può essere modificato dopo la sua creazione.\n",
    "Ad esempio, una stringa è immutabile. Non è possibile sovrascrivere i valori di oggetti immutabili.\n",
    "\n",
    "Tuttavia, è possibile assegnare nuovamente la variabile. Quindi non modifichiamo l'oggetto stringa, **ne creiamo uno ex-novo**.\n"
   ]
  },
  {
   "cell_type": "code",
   "execution_count": 9,
   "id": "1f6a6492",
   "metadata": {},
   "outputs": [
    {
     "name": "stdout",
     "output_type": "stream",
     "text": [
      "0x10a3e6eb0\n",
      "0x10a3e6230\n"
     ]
    }
   ],
   "source": [
    "s = \"Oh i like you!\"\n",
    "print(hex(id(s)))\n",
    "\n",
    "s = \"Oh i hate you!\"\n",
    "\n",
    "print(hex(id(s)))"
   ]
  },
  {
   "cell_type": "markdown",
   "id": "2d66de32",
   "metadata": {},
   "source": [
    "Dal momento che una stringa è immutabile, è stato creato un nuovo oggetto che punta ad un'altra locazione di memoria. \n",
    "Proviamo ad effettuare una modifica inline:"
   ]
  },
  {
   "cell_type": "code",
   "execution_count": 10,
   "id": "9a8152c2",
   "metadata": {},
   "outputs": [
    {
     "ename": "TypeError",
     "evalue": "'str' object does not support item assignment",
     "output_type": "error",
     "traceback": [
      "\u001b[0;31m---------------------------------------------------------------------------\u001b[0m",
      "\u001b[0;31mTypeError\u001b[0m                                 Traceback (most recent call last)",
      "Cell \u001b[0;32mIn[10], line 1\u001b[0m\n\u001b[0;32m----> 1\u001b[0m \u001b[43ms\u001b[49m\u001b[43m[\u001b[49m\u001b[38;5;241;43m0\u001b[39;49m\u001b[43m]\u001b[49m \u001b[38;5;241m=\u001b[39m \u001b[38;5;124m\"\u001b[39m\u001b[38;5;124mS\u001b[39m\u001b[38;5;124m\"\u001b[39m\n",
      "\u001b[0;31mTypeError\u001b[0m: 'str' object does not support item assignment"
     ]
    }
   ],
   "source": [
    "s[0] = \"S\""
   ]
  },
  {
   "cell_type": "markdown",
   "id": "2d00557d",
   "metadata": {},
   "source": [
    "Dal momento che le stringhe sono immutabili, Python ci restituisce un `TypeError`.\n"
   ]
  },
  {
   "cell_type": "markdown",
   "id": "5326fcb1",
   "metadata": {},
   "source": [
    "**Numeri, stringhe e tuple are immutabili**.<br>   \n",
    "**Liste, dizionari, e set sono mutabili**, come la stragrande maggioranza degli oggetti creati dalle classi.\n",
    "\n",
    "L'immutabilità può essere usata per assicurarsi che un oggetto rimanga \"costante\" durante l'esecuzione di un programma. I valori degli oggetti mutable possono invece essere cambiati \"inline\" in ogni momento. "
   ]
  },
  {
   "cell_type": "markdown",
   "id": "cc8edb76",
   "metadata": {},
   "source": [
    "### Come sono passati gli argomenti ad una funzione e quali sono le conseguenze per oggetti mutabili e immutabili?"
   ]
  },
  {
   "cell_type": "markdown",
   "id": "7277ae8e",
   "metadata": {},
   "source": [
    "Il modo in cui il compilatore Python gestisce gli argomenti delle funzioni è strettamente correlato al fatto che essi siano mutabili o no.\n",
    "\n",
    "Normalmente, <ins>un oggetto mutabile viene passato ad una funzione **per riferimento**</ins>. Questo significa che la variabile originale può essere modificata. Se si desidera evitare questo comportamento, è necessario copiare la variabile in un'altra variabile. Al contrario, <ins>un oggetto immutabile viene passato ad una funzione **per valore**</ins>. Quindi non è possibile modificare intrinsecamente il valore di quell'immutabile. Ecco alcuni esempi:"
   ]
  },
  {
   "cell_type": "code",
   "execution_count": 11,
   "id": "d00fd349",
   "metadata": {},
   "outputs": [
    {
     "name": "stdout",
     "output_type": "stream",
     "text": [
      "5\n"
     ]
    }
   ],
   "source": [
    "def inc(n):\n",
    "    n += 1\n",
    "\n",
    "a = 5\n",
    "inc(a)\n",
    "print(a)"
   ]
  },
  {
   "cell_type": "markdown",
   "id": "3f7e72c1",
   "metadata": {},
   "source": [
    "La variabile `a` si riferisce all'oggetto con valore `5`. Quando lo passiamo alla funzione `increment`, la variabile locale `n` si riferisce allo stesso oggetto. Ad ogni modo, dal momento che `a` è un numero, e i numeri sono immutable, l'incremento di `n` avverrà solo all'interno della funzione. Quindi la stampa del valore di `a` dopo la chiamata a funzione restituirà sempre il valore originario: `5`. "
   ]
  },
  {
   "cell_type": "code",
   "execution_count": 12,
   "id": "c1040ba3",
   "metadata": {},
   "outputs": [
    {
     "name": "stdout",
     "output_type": "stream",
     "text": [
      "{'first_name': 'Giuseppe', 'last_name': 'Mastrandrea', 'age': 37}\n"
     ]
    }
   ],
   "source": [
    "def inc(n):\n",
    "    n['age'] = 37\n",
    "\n",
    "d = {\"first_name\": \"Giuseppe\", \"last_name\": \"Mastrandrea\"}\n",
    "inc(d)\n",
    "print(d)"
   ]
  },
  {
   "cell_type": "markdown",
   "id": "f1101cca",
   "metadata": {},
   "source": [
    "Stavolta, siccome la variabile `l` contiene un oggetto *mutable*, ovvero un dizionario, la variabile locale `n` nella funzione `inc` punterà alla stessa cella di memoria a cui punta la variabile `d`. Quindi la modifica fatta in `inc` si rifletterà **anche** sulla variabile `d`. Nessun nuovo oggetto è creato. Viene modificato \"inline\" l'oggetto originario.\n",
    "\n"
   ]
  },
  {
   "cell_type": "code",
   "execution_count": 13,
   "id": "54d539e1",
   "metadata": {},
   "outputs": [
    {
     "name": "stdout",
     "output_type": "stream",
     "text": [
      "[1, 2, 3]\n"
     ]
    }
   ],
   "source": [
    "def copy_ref(n, v):\n",
    "    n = v\n",
    "\n",
    "list1 = [1, 2, 3]\n",
    "list2 = [4, 5, 6]\n",
    "copy_ref(list1, list2)\n",
    "print(list1)"
   ]
  },
  {
   "cell_type": "markdown",
   "id": "ac5abba4",
   "metadata": {},
   "source": [
    "In questo caso passiamo alla funzione due liste. La funzione ha le varibili locali `n` e `v`, che si riferiscono rispettivamente allo stesso oggetto a cui si riferiscono `list1` e `list2`.\n",
    "\n",
    "La funzione assegna `n` all'oggetto a cui si riferisce `v`. Quindi `n` e `v` si riferiscono allo stesso oggetto. \n",
    "Quindi `n`, `v` e `list2` si riferiscono tutte e tre a `[4, 5, 6]`. `list1`, al contrario, punta ancora all'oggetto `[1, 2, 3]`, che in effetti viene poi stampato nella `print` finale."
   ]
  },
  {
   "cell_type": "markdown",
   "id": "36ef00d0",
   "metadata": {},
   "source": [
    "Come facciamo a copiare una lista? Ci sono molti modi, eccone uno piuttosto _naive_:"
   ]
  },
  {
   "cell_type": "code",
   "execution_count": 14,
   "id": "f14bcb2c",
   "metadata": {},
   "outputs": [],
   "source": [
    "def copy_list(n):\n",
    "    out = n[:]\n",
    "    return out\n",
    "    \n",
    "l = [1, 2, 3]\n",
    "nl = copy_list(l)"
   ]
  },
  {
   "cell_type": "markdown",
   "id": "d2743ee3",
   "metadata": {},
   "source": [
    "Passiamo a `copy_list` una lista per reference. La funzione conterrà una variabile locale (`n`) che punta allo stesso oggetto di `l`. Tuttavia, in questo caso, abbiamo usato lo slice operator (`:`) per creare una copia della lista e ritornarla in output alla funzione. In output avremo un reference a quella copia! Adesso `nl` si riferirà ad un oggetto diverso da quello originariamente passato alla funzione.\n"
   ]
  },
  {
   "cell_type": "code",
   "execution_count": 15,
   "id": "1e2a2321",
   "metadata": {},
   "outputs": [
    {
     "name": "stdout",
     "output_type": "stream",
     "text": [
      "True\n",
      "False\n",
      "list_1 0x10bb3b0c0\n",
      "list_2 0x10bb39f80\n"
     ]
    }
   ],
   "source": [
    "list_1 = [1, 2, 3]\n",
    "\n",
    "list_2 = copy_list(list_1)\n",
    "\n",
    "print(list_1 == list_2)\n",
    "print(list_1 is list_2)\n",
    "print('list_1', hex(id(list1)))\n",
    "print('list_2', hex(id(list2)))"
   ]
  },
  {
   "cell_type": "markdown",
   "id": "e910dad2",
   "metadata": {},
   "source": [
    "## Peculiarità"
   ]
  },
  {
   "cell_type": "markdown",
   "id": "e6427f43",
   "metadata": {},
   "source": [
    "### Small Integers Caching"
   ]
  },
  {
   "cell_type": "code",
   "execution_count": 16,
   "id": "cf46d728",
   "metadata": {},
   "outputs": [
    {
     "name": "stdout",
     "output_type": "stream",
     "text": [
      "0x1046faa18\n",
      "0x1046faa38\n",
      "0x1046faa38\n",
      "250 ->  True\n",
      "260 ->  False\n"
     ]
    }
   ],
   "source": [
    "a = 1\n",
    "b = 2\n",
    "c = 2\n",
    "\n",
    "print(hex(id(a)))\n",
    "print(hex(id(b)))\n",
    "print(hex(id(c)))\n",
    "\n",
    "a = 250\n",
    "b = 250\n",
    "\n",
    "print(\"250 -> \", id(a)==id(b))\n",
    "\n",
    "a = 260\n",
    "b = 260\n",
    "print(\"260 -> \", id(a)==id(b))"
   ]
  },
  {
   "cell_type": "markdown",
   "id": "fd68a22d",
   "metadata": {},
   "source": [
    "Notiamo che nonostante b e c siano due variabili diverse, esse hanno lo stesso id(); usando CPython, possiamo dire che queste variabili puntano alla **stessa cella di memoria**. Hanno lo stesso identificatore univoco perché `c` sta facendo riferimento a un oggetto che contiene il valore 2 e `b` sta anche facendo riferimento allo stesso oggetto che contiene il valore 2. Entrambi puntano allo stesso oggetto che contiene un valore 2. L'oggetto, `0x104e00110`, è l'identificatore univoco."
   ]
  },
  {
   "cell_type": "markdown",
   "id": "c13339e2",
   "metadata": {},
   "source": [
    "Perchè abbiamo un True per 250 e False per 260?\n",
    "La ragione è che Python, per i cosiddetti \"Small Integers\" (ovvero quelli che vanno da -5 a 256) conserva un array dedicato in memoria. Quando creiamo un numero che si trova in quel range, otteniamo un reference ad un oggetto che **esiste già**. Questo è implementato in CPython grazie a delle macro, `NSMALLNEGINTS`, `NSMALLPOSINTS` e `CHECK_SMALL_INT`. \n",
    "\n",
    "    #ifndef NSMALLPOSINTS\n",
    "    #define NSMALLPOSINTS           257\n",
    "    #endif\n",
    "    #ifndef NSMALLNEGINTS\n",
    "    #define NSMALLNEGINTS           5\n",
    "    #endif\n",
    "    #define CHECK_SMALL_INT(ival)\n",
    "        do if (-NSMALLNEGINTS <= ival && ival < NSMALLPOSINTS) {\n",
    "            return get_small_int((sdigit)ival);\n",
    "        } while(0)`"
   ]
  },
  {
   "cell_type": "markdown",
   "id": "06306ac7",
   "metadata": {},
   "source": [
    "### Interning\n",
    "\n"
   ]
  },
  {
   "cell_type": "code",
   "execution_count": 17,
   "id": "11f66d6e",
   "metadata": {},
   "outputs": [
    {
     "name": "stdout",
     "output_type": "stream",
     "text": [
      "True\n",
      "True\n",
      "True\n"
     ]
    }
   ],
   "source": [
    "a = \"strawberry\"\n",
    "b = \"strawberry\"\n",
    "print(id(a) == id(b))\n",
    "print(a is b)\n",
    "print(a == b)\n"
   ]
  },
  {
   "cell_type": "markdown",
   "id": "b44b94bb",
   "metadata": {},
   "source": [
    "L'`interning` è il processo di ottimizzazione della memoria per cui in presenza di stringhe uguali, esse puntano allo stesso oggetto in memoria. In sostanza, quindi, quando creiamo due stringhe con lo stesso valore, invece di allocare memoria per entrambe, Python memorizza *solo un* valore in memoria. L'altra stringa punta semplicemente alla stessa locazione di memoria della prima:\n"
   ]
  },
  {
   "cell_type": "code",
   "execution_count": 18,
   "id": "c6677920",
   "metadata": {},
   "outputs": [],
   "source": [
    "a = 'hello'\n",
    "b = 'hello'\n",
    "c = 'hell'"
   ]
  },
  {
   "cell_type": "markdown",
   "id": "e485155a",
   "metadata": {},
   "source": [
    "L'interning in questo caso avviene per a e b, mentre c è diversa e quindi non viene ri-utilizzata la locazione di memoria già allocata per a e b. Proviamolo:"
   ]
  },
  {
   "cell_type": "code",
   "execution_count": 19,
   "id": "29ced7ff",
   "metadata": {},
   "outputs": [
    {
     "name": "stdout",
     "output_type": "stream",
     "text": [
      "0x10960b300\n",
      "0x10960b300\n",
      "0x10a377900\n"
     ]
    }
   ],
   "source": [
    "print((hex(id(a))))\n",
    "print((hex(id(b))))\n",
    "print((hex(id(c))))"
   ]
  },
  {
   "cell_type": "markdown",
   "id": "70e364c4",
   "metadata": {},
   "source": [
    "Ora che abbiamo dimostrato che per c non c'è stato interning, possiamo controllare che l'uguaglianza del valore di c ("
   ]
  },
  {
   "cell_type": "code",
   "execution_count": 20,
   "id": "f1fe3035",
   "metadata": {},
   "outputs": [
    {
     "name": "stdout",
     "output_type": "stream",
     "text": [
      "hello hello\n",
      "True\n",
      "True\n",
      "False\n",
      "True\n"
     ]
    }
   ],
   "source": [
    "c = c + 'o'\n",
    "\n",
    "\n",
    "print(a, c)\n",
    "print(a is b)\n",
    "print(a == b)\n",
    "\n",
    "print(a is c)\n",
    "print(a == c)"
   ]
  },
  {
   "cell_type": "markdown",
   "id": "aca229e8",
   "metadata": {},
   "source": [
    "È possibile effettuare un intern esplicito usando `sys.intern()`:"
   ]
  },
  {
   "cell_type": "code",
   "execution_count": 21,
   "id": "8b0e52b7",
   "metadata": {},
   "outputs": [
    {
     "name": "stdout",
     "output_type": "stream",
     "text": [
      "The ID of a: 0x10a3c5070\n",
      "The ID of b: 0x10a3c5070\n",
      "a is b? True\n"
     ]
    }
   ],
   "source": [
    "letter = 'd'\n",
    "\n",
    "a = sys.intern('Hello World')\n",
    "b = sys.intern('Hello Worl' + letter)\n",
    "\n",
    "print(f\"The ID of a: {hex(id(a))}\")\n",
    "print(f\"The ID of b: {hex(id(b))}\")\n",
    "print(f\"a is b? {a is b}\")"
   ]
  },
  {
   "cell_type": "markdown",
   "id": "d9a63f3f",
   "metadata": {},
   "source": [
    "### Tuple\n",
    "\n",
    "L'immutabilità sulle tuple è vera solo in parte. La tupla in sè non può essere modificata, ma in alcuni casi **è possibile modificare gli oggetti in essa contenuti**. Se la tupla ha un campo immutabile come una stringa, allora la tupla non può essere modificata ed è talvolta chiamata \"immutabilità non transitiva\". Ma un campo mutabile come un elenco può essere modificato, come dimostrato dal seguente esempio:"
   ]
  },
  {
   "cell_type": "code",
   "execution_count": 22,
   "id": "116d29ef",
   "metadata": {},
   "outputs": [
    {
     "name": "stdout",
     "output_type": "stream",
     "text": [
      "(1, 2, ['Hello', 'World'])\n",
      "(1, 2, ['Hello', 'World', '!!!'])\n"
     ]
    }
   ],
   "source": [
    "t = (1, 2, ['Hello', 'World'])\n",
    "\n",
    "print(t)\n",
    "\n",
    "t[2].append('!!!')\n",
    "\n",
    "print(t)"
   ]
  },
  {
   "cell_type": "code",
   "execution_count": null,
   "id": "7eb2e348-5853-43a3-b8f2-d349f7073d07",
   "metadata": {},
   "outputs": [],
   "source": []
  }
 ],
 "metadata": {
  "kernelspec": {
   "display_name": "Python 3 (ipykernel)",
   "language": "python",
   "name": "python3"
  },
  "language_info": {
   "codemirror_mode": {
    "name": "ipython",
    "version": 3
   },
   "file_extension": ".py",
   "mimetype": "text/x-python",
   "name": "python",
   "nbconvert_exporter": "python",
   "pygments_lexer": "ipython3",
   "version": "3.13.1"
  }
 },
 "nbformat": 4,
 "nbformat_minor": 5
}
