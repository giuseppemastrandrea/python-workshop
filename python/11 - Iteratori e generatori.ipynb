{
 "cells": [
  {
   "cell_type": "markdown",
   "metadata": {},
   "source": [
    "# Iteratori e Generatori in Python\n",
    "\n",
    "Questo notebook è destinato a sviluppatori esperti in altri linguaggi di programmazione, con l'obiettivo di spiegare come funzionano gli iteratori e i generatori in Python. Esploreremo le definizioni generali, forniremo esempi pratici e proporremo alcuni esercizi finali."
   ]
  },
  {
   "cell_type": "markdown",
   "metadata": {},
   "source": [
    "## Che cos'è un Iteratore?\n",
    "\n",
    "In Python, un iteratore è un oggetto che rappresenta una sequenza di dati e che può essere attraversato uno alla volta. Gli iteratori sono una parte fondamentale del protocollo di iterazione di Python, che consente di iterare su collezioni di dati (come liste, tuple, e dizionari) in modo uniforme.\n",
    "\n",
    "## Protocollo degli Iteratori\n",
    "\n",
    "Un oggetto è un iteratore se implementa due metodi speciali:\n",
    "\n",
    "1. **`__iter__()`**: Questo metodo deve restituire l'oggetto iteratore stesso. È richiesto per far sì che l'oggetto sia iterabile.\n",
    "2. **`__next__()`**: Questo metodo restituisce il prossimo elemento della sequenza. Se non ci sono più elementi da restituire, deve sollevare l'eccezione `StopIteration`.\n",
    "\n",
    "## Creazione di un Iteratore Personalizzato\n",
    "\n",
    "Per creare un iteratore personalizzato, è necessario definire una classe che implementi i metodi `__iter__()` e `__next__()`. Ecco un esempio che illustra come creare un iteratore che restituisce i numeri da 1 a 5:\n",
    "\n",
    "```python\n",
    "class MyIterator:\n",
    "    def __init__(self):\n",
    "        self.current = 1\n",
    "        self.max = 5\n",
    "    \n",
    "    def __iter__(self):\n",
    "        return self\n",
    "    \n",
    "    def __next__(self):\n",
    "        if self.current <= self.max:\n",
    "            num = self.current\n",
    "            self.current += 1\n",
    "            return num\n",
    "        else:\n",
    "            raise StopIteration\n",
    "\n",
    "# Uso dell'iteratore\n",
    "my_iter = MyIterator()\n",
    "for num in my_iter:\n",
    "    print(num)\n"
   ]
  },
  {
   "cell_type": "markdown",
   "metadata": {},
   "source": [
    "## Esempi di Iteratori\n",
    "\n",
    "Creiamo un semplice iteratore che genera i numeri da 1 a 5."
   ]
  },
  {
   "cell_type": "code",
   "execution_count": 1,
   "metadata": {},
   "outputs": [
    {
     "name": "stdout",
     "output_type": "stream",
     "text": [
      "1\n",
      "2\n",
      "3\n",
      "4\n",
      "5\n"
     ]
    }
   ],
   "source": [
    "class MyIterator:\n",
    "    def __init__(self):\n",
    "        self.current = 1\n",
    "        self.max = 5\n",
    "    \n",
    "    def __iter__(self):\n",
    "        return self\n",
    "    \n",
    "    def __next__(self):\n",
    "        if self.current <= self.max:\n",
    "            num = self.current\n",
    "            self.current += 1\n",
    "            return num\n",
    "        else:\n",
    "            raise StopIteration\n",
    "\n",
    "my_iter = MyIterator()\n",
    "for num in my_iter:\n",
    "    print(num)"
   ]
  },
  {
   "cell_type": "markdown",
   "metadata": {},
   "source": [
    "## Generatori\n",
    "\n",
    "### Che cos'è un Generatore?\n",
    "\n",
    "Un generatore in Python è un tipo speciale di iteratore che consente di iterare su una sequenza di valori senza doverli memorizzare tutti in memoria contemporaneamente. I generatori vengono creati utilizzando una funzione che utilizza la parola chiave `yield` per restituire i valori uno alla volta.\n",
    "\n",
    "### Differenze tra Generatori e Funzioni Normali\n",
    "\n",
    "A differenza delle funzioni normali che utilizzano `return` per restituire un valore e terminare l'esecuzione, le funzioni generatore utilizzano `yield` per restituire un valore e sospendere l'esecuzione, mantenendo lo stato locale della funzione. La volta successiva che viene chiamato, il generatore riprende l'esecuzione da dove era stato sospeso.\n",
    "\n",
    "### Creazione di un Generatore\n",
    "\n",
    "Creare un generatore è molto semplice. Basta definire una funzione come al solito, ma usare la parola chiave `yield` ogni volta che si vuole restituire un valore. Ecco un esempio di un generatore che produce i numeri da 1 a 5:\n",
    "\n",
    "```python\n",
    "def my_generator():\n",
    "    for num in range(1, 6):\n",
    "        yield num\n",
    "\n",
    "# Uso del generatore\n",
    "for num in my_generator():\n",
    "    print(num)\n",
    "```\n",
    "\n",
    "\n",
    "\n",
    "\n",
    "### Vantaggi dei Generatori\n",
    "\n",
    "-   **Efficienza della memoria**: I generatori producono i valori su richiesta e non memorizzano l'intera sequenza in memoria. Questo è particolarmente utile per lavorare con grandi quantità di dati.\n",
    "-   **Laziness**: I generatori valutano i valori solo quando necessario, il che può portare a miglioramenti nelle prestazioni quando si lavora con sequenze grandi o infinite.\n",
    "\n",
    "### Stato Interno dei Generatori\n",
    "\n",
    "I generatori mantengono il loro stato interno tra le chiamate. Ogni volta che viene chiamato `yield`, il generatore salva il suo stato corrente, incluso il valore delle variabili locali, il puntatore di istruzione e lo stack di chiamate. Quando viene ripreso, continua l'esecuzione da dove era stato sospeso.\n",
    "\n",
    "### Esempio di Generatore con Stato\n",
    "\n",
    "Ecco un esempio di un generatore che produce la sequenza di Fibonacci:"
   ]
  },
  {
   "cell_type": "code",
   "execution_count": 2,
   "metadata": {},
   "outputs": [
    {
     "name": "stdout",
     "output_type": "stream",
     "text": [
      "0\n",
      "1\n",
      "1\n",
      "2\n",
      "3\n",
      "5\n",
      "8\n",
      "13\n",
      "21\n",
      "34\n"
     ]
    }
   ],
   "source": [
    "def fibonacci_generator(n):\n",
    "    a, b = 0, 1\n",
    "    for _ in range(n):\n",
    "        yield a\n",
    "        a, b = b, a + b\n",
    "\n",
    "# Uso del generatore\n",
    "for num in fibonacci_generator(10):\n",
    "    print(num)"
   ]
  },
  {
   "cell_type": "markdown",
   "metadata": {},
   "source": [
    "I generatori sono generalmente più veloci da implementare rispetto agli iteratori personalizzati perché non richiedono una classe separata con i metodi `__iter__()` e `__next__()`."
   ]
  },
  {
   "cell_type": "markdown",
   "metadata": {},
   "source": [
    "## Esercizi\n",
    "\n",
    "1. **Iteratore Personalizzato**: Crea un iteratore che genera i numeri pari da 2 a un numero specificato dall'utente.\n",
    "2. **Generatore di Numeri Primi**: Crea un generatore che produce i numeri primi fino a un valore massimo specificato."
   ]
  },
  {
   "cell_type": "markdown",
   "metadata": {},
   "source": [
    "### Soluzione Esercizio 1\n",
    "Iteratore che genera numeri pari da 2 a 10."
   ]
  },
  {
   "cell_type": "code",
   "execution_count": 3,
   "metadata": {},
   "outputs": [],
   "source": [
    "class EvenIterator:\n",
    "    pass"
   ]
  },
  {
   "cell_type": "markdown",
   "metadata": {},
   "source": [
    "### Soluzione Esercizio 2\n",
    "Generatore che produce numeri primi fino a un valore massimo specificato."
   ]
  },
  {
   "cell_type": "code",
   "execution_count": 8,
   "metadata": {},
   "outputs": [
    {
     "name": "stdout",
     "output_type": "stream",
     "text": [
      "<generator object numeri_primi at 0x11142fd80>\n",
      "2.0509912967681885 seconds\n"
     ]
    }
   ],
   "source": [
    "def is_prime(n):\n",
    "    if n < 2:\n",
    "        return False\n",
    "    for i in range(2, n // 2):\n",
    "        if n % i == 0:\n",
    "            return False\n",
    "    return True\n",
    "\n",
    "def numeri_primi(max):\n",
    "    for num in range(2, max + 1):\n",
    "        if is_prime(num):\n",
    "            yield num\n",
    "\n",
    "print(numeri_primi(5))\n",
    "\n",
    "import time\n",
    "\n",
    "start = time.time()\n",
    "\n",
    "for i in numeri_primi(50000):\n",
    "    pass\n",
    "\n",
    "end = time.time()\n",
    "\n",
    "print(f\"{end - start} seconds\")"
   ]
  },
  {
   "cell_type": "code",
   "execution_count": null,
   "metadata": {},
   "outputs": [],
   "source": []
  }
 ],
 "metadata": {
  "kernelspec": {
   "display_name": "Python 3 (ipykernel)",
   "language": "python",
   "name": "python3"
  },
  "language_info": {
   "codemirror_mode": {
    "name": "ipython",
    "version": 3
   },
   "file_extension": ".py",
   "mimetype": "text/x-python",
   "name": "python",
   "nbconvert_exporter": "python",
   "pygments_lexer": "ipython3",
   "version": "3.13.1"
  }
 },
 "nbformat": 4,
 "nbformat_minor": 4
}
