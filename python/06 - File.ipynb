{
 "cells": [
  {
   "cell_type": "markdown",
   "id": "c23234d8",
   "metadata": {},
   "source": [
    "Un file può essere aperto in Python con una semplicissima chiamata alla funzione `open()`. Essa accetta svariati parametri, ma i più importanti sono i primi due:\n",
    "- il percorso del file da aprire (se relativo, è il path a partire dallo script attualmente in esecuzione)\n",
    "- la modalità di apertura\n",
    "\n",
    "La modalità di apertura può essere:\n",
    "- `r` : modalità sola lettura (modalità di default)\n",
    "- `w` : modalità sola scrittura\n",
    "- `x` : modalità sola creazione e scrittura (se il file esiste fallisce)\n",
    "- `a` : modalità sola scrittura in coda (append)\n",
    "- `+` : modalità update (lettura e scrittura)\n",
    "- `b` : modalità binaria (da combinare con le modalità viste in precedenza)\n",
    "- `t` : modalità testuale (da combinare con le modalità viste in precedenza)\n",
    "\n",
    "\n"
   ]
  },
  {
   "cell_type": "markdown",
   "id": "f8590053",
   "metadata": {},
   "source": [
    "Normalmente una chiamata ad `open` restituisce un oggetto file, che ha svariati attributi e metodi. Dobbiamo ricordare di chiudere un file quando finiamo di fare le operazioni su di esso:"
   ]
  },
  {
   "cell_type": "code",
   "execution_count": 1,
   "id": "96c4a531",
   "metadata": {},
   "outputs": [
    {
     "ename": "FileNotFoundError",
     "evalue": "[Errno 2] No such file or directory: 'files/file.txt'",
     "output_type": "error",
     "traceback": [
      "\u001b[0;31m---------------------------------------------------------------------------\u001b[0m",
      "\u001b[0;31mFileNotFoundError\u001b[0m                         Traceback (most recent call last)",
      "Cell \u001b[0;32mIn[1], line 1\u001b[0m\n\u001b[0;32m----> 1\u001b[0m f \u001b[38;5;241m=\u001b[39m \u001b[38;5;28;43mopen\u001b[39;49m\u001b[43m(\u001b[49m\u001b[38;5;124;43m\"\u001b[39;49m\u001b[38;5;124;43mfiles/file.txt\u001b[39;49m\u001b[38;5;124;43m\"\u001b[39;49m\u001b[43m,\u001b[49m\u001b[43m \u001b[49m\u001b[43mmode\u001b[49m\u001b[38;5;241;43m=\u001b[39;49m\u001b[38;5;124;43m\"\u001b[39;49m\u001b[38;5;124;43mr\u001b[39;49m\u001b[38;5;124;43m\"\u001b[39;49m\u001b[43m)\u001b[49m\n\u001b[1;32m      2\u001b[0m \u001b[38;5;28;01mfor\u001b[39;00m m \u001b[38;5;129;01min\u001b[39;00m \u001b[38;5;28mdir\u001b[39m(f):\n\u001b[1;32m      3\u001b[0m     \u001b[38;5;28;01mif\u001b[39;00m \u001b[38;5;124m'\u001b[39m\u001b[38;5;124m__\u001b[39m\u001b[38;5;124m'\u001b[39m \u001b[38;5;129;01mnot\u001b[39;00m \u001b[38;5;129;01min\u001b[39;00m m:\n",
      "File \u001b[0;32m/opt/anaconda3/envs/python-workshop/lib/python3.13/site-packages/IPython/core/interactiveshell.py:324\u001b[0m, in \u001b[0;36m_modified_open\u001b[0;34m(file, *args, **kwargs)\u001b[0m\n\u001b[1;32m    317\u001b[0m \u001b[38;5;28;01mif\u001b[39;00m file \u001b[38;5;129;01min\u001b[39;00m {\u001b[38;5;241m0\u001b[39m, \u001b[38;5;241m1\u001b[39m, \u001b[38;5;241m2\u001b[39m}:\n\u001b[1;32m    318\u001b[0m     \u001b[38;5;28;01mraise\u001b[39;00m \u001b[38;5;167;01mValueError\u001b[39;00m(\n\u001b[1;32m    319\u001b[0m         \u001b[38;5;124mf\u001b[39m\u001b[38;5;124m\"\u001b[39m\u001b[38;5;124mIPython won\u001b[39m\u001b[38;5;124m'\u001b[39m\u001b[38;5;124mt let you open fd=\u001b[39m\u001b[38;5;132;01m{\u001b[39;00mfile\u001b[38;5;132;01m}\u001b[39;00m\u001b[38;5;124m by default \u001b[39m\u001b[38;5;124m\"\u001b[39m\n\u001b[1;32m    320\u001b[0m         \u001b[38;5;124m\"\u001b[39m\u001b[38;5;124mas it is likely to crash IPython. If you know what you are doing, \u001b[39m\u001b[38;5;124m\"\u001b[39m\n\u001b[1;32m    321\u001b[0m         \u001b[38;5;124m\"\u001b[39m\u001b[38;5;124myou can use builtins\u001b[39m\u001b[38;5;124m'\u001b[39m\u001b[38;5;124m open.\u001b[39m\u001b[38;5;124m\"\u001b[39m\n\u001b[1;32m    322\u001b[0m     )\n\u001b[0;32m--> 324\u001b[0m \u001b[38;5;28;01mreturn\u001b[39;00m \u001b[43mio_open\u001b[49m\u001b[43m(\u001b[49m\u001b[43mfile\u001b[49m\u001b[43m,\u001b[49m\u001b[43m \u001b[49m\u001b[38;5;241;43m*\u001b[39;49m\u001b[43margs\u001b[49m\u001b[43m,\u001b[49m\u001b[43m \u001b[49m\u001b[38;5;241;43m*\u001b[39;49m\u001b[38;5;241;43m*\u001b[39;49m\u001b[43mkwargs\u001b[49m\u001b[43m)\u001b[49m\n",
      "\u001b[0;31mFileNotFoundError\u001b[0m: [Errno 2] No such file or directory: 'files/file.txt'"
     ]
    }
   ],
   "source": [
    "f = open(\"files/file.txt\", mode=\"r\")\n",
    "for m in dir(f):\n",
    "    if '__' not in m:\n",
    "        print(m)\n",
    "        \n",
    "print(f\"File {f.name} aperto in modalità {f.mode}\")\n",
    "print(f\"Encoding: {f.encoding}\")\n",
    "f.close()"
   ]
  },
  {
   "cell_type": "markdown",
   "id": "eb89bb81",
   "metadata": {},
   "source": [
    "In alternativa ad una chiamata esplicita a close potremmo utilizzare un cosiddetto **context manager**. In sostanza si tratta di un costrutto che ci consente di delegare a Python tutta la gestione del file aperto e soprattutto la sua chiusura:"
   ]
  },
  {
   "cell_type": "code",
   "execution_count": null,
   "id": "4798e38b",
   "metadata": {},
   "outputs": [],
   "source": [
    "with open(\"files/file.txt\", mode=\"r\") as file:\n",
    "    print(f\"File {file.name} aperto in modalità {file.mode}\")\n",
    "    print(f\"Encoding: {file.encoding}\")\n",
    "\n",
    "print(\"Quis ono fuori dal context manager e il file è chiuso -> \", file.closed)"
   ]
  },
  {
   "cell_type": "markdown",
   "id": "0337a2f2",
   "metadata": {},
   "source": [
    "Leggere un file di testo è piuttosto semplice, e abbiamo svariati modi:\n",
    "- la funzione `readlines()`\n",
    "- la funzione `readline()`\n",
    "- la funzione `read(n)`\n",
    "- un ciclo `for`"
   ]
  },
  {
   "cell_type": "code",
   "execution_count": null,
   "id": "57b0fc27",
   "metadata": {},
   "outputs": [],
   "source": [
    "\n",
    "with open(\"files/file.txt\", mode=\"r\") as file:\n",
    "    s = file.readlines()\n",
    "    print(f\"Uso readlines(), n. righe {len(s)}:\")\n",
    "    for line in s:\n",
    "        print(line)\n",
    "\n",
    "print(\"\\n\\n\")\n",
    "with open(\"files/file.txt\", mode=\"r\") as file:\n",
    "    c = file.readline()\n",
    "    print(f\"Uso readlines():\")\n",
    "    while c:\n",
    "        print(c)\n",
    "        c = file.readline()\n",
    "print(\"\\n\\n\")\n",
    "\n",
    "with open(\"files/file.txt\", mode=\"r\") as file:\n",
    "    c = file.read()\n",
    "    print(f\"Uso read(): di default restituisce l'intero file\")\n",
    "    print(c)\n",
    "\n",
    "print(\"\\n\\n\")\n",
    "    \n",
    "with open(\"files/file.txt\", mode=\"r\") as file:\n",
    "    chunk_size = 8\n",
    "    c = file.read(chunk_size)\n",
    "    print(f\"Uso read(): leggiamo {chunk_size} carattere per volta\")\n",
    "    while c:\n",
    "        print(c)\n",
    "        c = file.read(chunk_size)\n",
    "\n",
    "print(\"\\n\\n\")\n",
    "    \n",
    "with open(\"files/file.txt\", mode=\"r\") as file:\n",
    "    print(f\"Uso ciclo for: leggiamo una riga per volta\")\n",
    "    for line in file:\n",
    "        print(line)\n"
   ]
  },
  {
   "cell_type": "code",
   "execution_count": null,
   "id": "db18cf8c",
   "metadata": {},
   "outputs": [],
   "source": [
    "with open(\"files/special_chars.txt\", mode=\"r\") as file:\n",
    "    c = file.read(1)\n",
    "    print(c)\n",
    "    \n",
    "with open(\"files/special_chars.txt\", mode=\"rb\") as file:\n",
    "    c = file.read(1)\n",
    "    print(c)"
   ]
  },
  {
   "cell_type": "markdown",
   "id": "b0b6a1a3",
   "metadata": {},
   "source": [
    "Un file ha una posizione di lettura/scrittura associata, che è possibile leggere e settare rispettivamente coi metodi `tell` e `seek(offset, whence)`. Il parametro `whence` rappresenta il punto di partenza da cui iniziare lo scostamento precisato da `offset`:\n",
    "- `0`: sposta il puntatore di `offset` byte dall'inizio del file\n",
    "- `1`: sposta il puntatore di `offset` byte dalla posizione corrente\n",
    "- `2`: sposta il puntatore di `offset` byte dalla fine del file\n",
    "\n",
    "Nei file di testo (cioè aperti senza la `b` nella modalità di apertura) sono permessi solo i seek relativi all'inizio del file. \n"
   ]
  },
  {
   "cell_type": "code",
   "execution_count": null,
   "id": "59869f4c",
   "metadata": {},
   "outputs": [],
   "source": [
    "with open(\"files/file.txt\", mode=\"rb\") as file:\n",
    "    c = file.readline()\n",
    "    c = file.readline()\n",
    "    print(f\"Posizione puntatore: {file.tell()}\")\n",
    "    print(f\"Settiamo il puntatore a -10 byte dalla fine del file\")\n",
    "    file.seek(-10, 2)\n",
    "    print(file.read(10))"
   ]
  },
  {
   "cell_type": "code",
   "execution_count": null,
   "id": "c0f9dd59",
   "metadata": {},
   "outputs": [],
   "source": [
    "with open(\"files/to_write.txt\", mode=\"w\") as file:\n",
    "    file.write(\"HELLO\")\n",
    "    file.seek(0)\n",
    "    file.write(\"M\")\n"
   ]
  },
  {
   "cell_type": "code",
   "execution_count": null,
   "id": "7e783962",
   "metadata": {},
   "outputs": [],
   "source": [
    "with open(\"files/pic.jpeg\", mode=\"rb\") as file:\n",
    "    print(f\"jpeg signature head: {file.read(4)}\")\n",
    "    file.seek(-2, 2)\n",
    "    print(f\"jpeg signature tail: {file.read(2)}\")\n"
   ]
  },
  {
   "cell_type": "code",
   "execution_count": null,
   "id": "7ae5be84",
   "metadata": {},
   "outputs": [],
   "source": [
    "with open(\"files/pic.jpeg\", mode=\"rb\") as reader:\n",
    "    with open(\"files/pic_copy.jpeg\", mode=\"wb\") as writer:\n",
    "        writer.write(reader.read())\n",
    "        reader.seek(-2, 2)\n",
    "        tail = reader.read(2)\n",
    "        writer.seek(-2, 2)\n",
    "        writer.write(b\"HELLO, STEGANOGRAPHY IS BEAUTIFUL!\")\n",
    "        writer.write(tail)\n"
   ]
  },
  {
   "cell_type": "code",
   "execution_count": null,
   "id": "9583b4bf",
   "metadata": {},
   "outputs": [],
   "source": []
  }
 ],
 "metadata": {
  "kernelspec": {
   "display_name": "Python 3 (ipykernel)",
   "language": "python",
   "name": "python3"
  },
  "language_info": {
   "codemirror_mode": {
    "name": "ipython",
    "version": 3
   },
   "file_extension": ".py",
   "mimetype": "text/x-python",
   "name": "python",
   "nbconvert_exporter": "python",
   "pygments_lexer": "ipython3",
   "version": "3.13.1"
  }
 },
 "nbformat": 4,
 "nbformat_minor": 5
}
