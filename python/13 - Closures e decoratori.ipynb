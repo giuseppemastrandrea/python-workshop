{
 "cells": [
  {
   "cell_type": "markdown",
   "id": "cedeb1f2-395a-4711-8f17-e11cbf06eb79",
   "metadata": {},
   "source": [
    "### Closures e Decoratori Personalizzati in Python\n",
    "\n",
    "In questo approfondimento, esploreremo i concetti di closures e decoratori personalizzati in Python, due potenti strumenti per scrivere codice più flessibile e riutilizzabile.\n",
    "\n",
    "## Closures\n",
    "\n",
    "### Cos'è una Closure?\n",
    "\n",
    "Una closure è una funzione che cattura le variabili dall'ambiente in cui è stata creata. Questo consente alla funzione di accedere a queste variabili anche quando viene eseguita al di fuori del suo contesto originale.\n",
    "\n",
    "### Come Funziona una Closure?\n",
    "\n",
    "Le closures vengono create quando una funzione interna cattura variabili locali da una funzione esterna. La funzione interna \"ricorda\" queste variabili anche dopo che la funzione esterna ha terminato la sua esecuzione."
   ]
  },
  {
   "cell_type": "code",
   "execution_count": 1,
   "id": "a09ac653-350b-42d2-b412-6f06f631eb7e",
   "metadata": {},
   "outputs": [
    {
     "name": "stdout",
     "output_type": "stream",
     "text": [
      "Hello, World!\n"
     ]
    }
   ],
   "source": [
    "def outer_function(msg):\n",
    "    def inner_function():\n",
    "        print(msg)\n",
    "    return inner_function\n",
    "\n",
    "# Creazione della closure\n",
    "closure = outer_function(\"Hello, World!\")\n",
    "closure()  # Output: Hello, World!\n"
   ]
  },
  {
   "cell_type": "markdown",
   "id": "82f5aaee-94f2-4e66-abcf-affcc7259f74",
   "metadata": {},
   "source": [
    "\n",
    "### Stato nelle Closures\n",
    "\n",
    "Le closures possono mantenere uno stato interno catturando variabili locali dalla funzione esterna. Questo consente di creare funzioni che \"ricordano\" il loro stato tra le chiamate successive.\n",
    "\n",
    "### Cos'è `nonlocal`?\n",
    "\n",
    "La parola chiave `nonlocal` in Python viene utilizzata all'interno di una funzione per riferirsi a variabili non locali ma non globali. In altre parole, `nonlocal` permette di modificare le variabili che sono definite in un contesto esterno alla funzione corrente ma non nella sfera globale. È particolarmente utile nelle closures per mantenere e aggiornare lo stato tra le chiamate alla funzione interna.\n",
    "\n",
    "### Esempio di Closure con Stato\n",
    "\n",
    "Vediamo un esempio che illustra come utilizzare le closures per mantenere uno stato e come la parola chiave `nonlocal` entra in gioco:"
   ]
  },
  {
   "cell_type": "code",
   "execution_count": 2,
   "id": "9d2f74cc-eb07-4754-bb4e-b4064ecb9956",
   "metadata": {},
   "outputs": [
    {
     "name": "stdout",
     "output_type": "stream",
     "text": [
      "1\n",
      "2\n",
      "3\n"
     ]
    }
   ],
   "source": [
    "count = 100\n",
    "def make_counter():\n",
    "    count = 0\n",
    "    def counter():\n",
    "        nonlocal count\n",
    "        count += 1\n",
    "        return count\n",
    "    return counter\n",
    "\n",
    "counter = make_counter()\n",
    "print(counter())  # Output: 1\n",
    "print(counter())  # Output: 2\n",
    "print(counter())  # Output: 3\n"
   ]
  },
  {
   "cell_type": "markdown",
   "id": "fc5ad871-bb5e-474b-9055-a853eac9da02",
   "metadata": {},
   "source": [
    "\n",
    "## Decoratori Personalizzati\n",
    "\n",
    "### Cos'è un Decoratore?\n",
    "\n",
    "Un decoratore è una funzione che prende un'altra funzione e la estende o modifica il suo comportamento senza modificarne il codice originale. I decoratori sono spesso usati per aggiungere funzionalità a funzioni o metodi esistenti.\n",
    "\n",
    "### Creazione di un Decoratore\n",
    "\n",
    "Un decoratore è una funzione che accetta una funzione come argomento e restituisce una nuova funzione. Il decoratore può eseguire codice prima e dopo la chiamata alla funzione decorata."
   ]
  },
  {
   "cell_type": "code",
   "execution_count": 3,
   "id": "22ba4614-cc91-49c7-8404-27870d3a4939",
   "metadata": {},
   "outputs": [
    {
     "name": "stdout",
     "output_type": "stream",
     "text": [
      "Something is happening before the function is called.\n",
      "Hello!\n",
      "Something is happening after the function is called.\n"
     ]
    }
   ],
   "source": [
    "def my_decorator(func):\n",
    "    def wrapper():\n",
    "        print(\"Something is happening before the function is called.\")\n",
    "        func()\n",
    "        print(\"Something is happening after the function is called.\")\n",
    "    return wrapper\n",
    "\n",
    "@my_decorator\n",
    "def say_hello():\n",
    "    print(\"Hello!\")\n",
    "\n",
    "say_hello()"
   ]
  },
  {
   "cell_type": "markdown",
   "id": "ab5a36aa-909a-42a5-a3ae-7044ea465097",
   "metadata": {},
   "source": [
    "\n",
    "### Decoratori con Argomenti\n",
    "\n",
    "Se la funzione che si desidera decorare accetta argomenti, il decoratore deve accettarli e passarli alla funzione decorata."
   ]
  },
  {
   "cell_type": "code",
   "execution_count": 4,
   "id": "4366efbe-adfe-49e9-9090-4f4fe7a6a5ef",
   "metadata": {},
   "outputs": [
    {
     "name": "stdout",
     "output_type": "stream",
     "text": [
      "Something is happening before the function is called.\n",
      "Hello, Alice!\n",
      "Something is happening after the function is called.\n"
     ]
    }
   ],
   "source": [
    "def my_decorator(func):\n",
    "    def wrapper(*args, **kwargs):\n",
    "        print(\"Something is happening before the function is called.\")\n",
    "        result = func(*args, **kwargs)\n",
    "        print(\"Something is happening after the function is called.\")\n",
    "        return result\n",
    "    return wrapper\n",
    "\n",
    "@my_decorator\n",
    "def greet(name):\n",
    "    print(f\"Hello, {name}!\")\n",
    "\n",
    "greet(\"Alice\")\n",
    "# Output:\n",
    "# Something is happening before the function is called.\n",
    "# Hello, Alice!\n",
    "# Something is happening after the function is called.\n"
   ]
  },
  {
   "cell_type": "markdown",
   "id": "e2063086-0425-49cc-91e5-5b874390752f",
   "metadata": {},
   "source": [
    "\n",
    "### Decoratori con Parametri\n",
    "\n",
    "A volte è utile creare decoratori che accettano parametri. Per fare ciò, si crea una funzione esterna che accetta i parametri del decoratore e restituisce il decoratore effettivo."
   ]
  },
  {
   "cell_type": "code",
   "execution_count": 5,
   "id": "3a1c79b5-7f24-43de-bf4b-1b76314e6f13",
   "metadata": {},
   "outputs": [
    {
     "name": "stdout",
     "output_type": "stream",
     "text": [
      "Hello!\n",
      "Hello!\n",
      "Hello!\n"
     ]
    }
   ],
   "source": [
    "def repeat(num_times):\n",
    "    def decorator_repeat(func):\n",
    "        def wrapper(*args, **kwargs):\n",
    "            for _ in range(num_times):\n",
    "                result = func(*args, **kwargs)\n",
    "            return result\n",
    "        return wrapper\n",
    "    return decorator_repeat\n",
    "\n",
    "@repeat(num_times=3)\n",
    "def say_hello():\n",
    "    print(\"Hello!\")\n",
    "\n",
    "say_hello()\n",
    "# Output:\n",
    "# Hello!\n",
    "# Hello!\n",
    "# Hello!\n"
   ]
  },
  {
   "cell_type": "markdown",
   "id": "9866ad39-b175-46ae-b77e-b90d73d45af3",
   "metadata": {},
   "source": [
    "### `wraps`\n",
    "\n",
    "Il decoratore `wraps`  proviene dal modulo functools ed è utilizzato per copiare i metadati (come il nome e la docstring) dal decorato alla funzione wrapper. Questo è utile per mantenere le informazioni originali della funzione decorata, rendendo il codice più leggibile e aiutando con il debug e la documentazione.\n",
    "\n"
   ]
  },
  {
   "cell_type": "code",
   "execution_count": 6,
   "id": "15532723-3434-4026-ad1b-f2c0dedd6055",
   "metadata": {},
   "outputs": [
    {
     "name": "stdout",
     "output_type": "stream",
     "text": [
      "Something is happening before the function is called.\n",
      "Hello!\n",
      "Something is happening after the function is called.\n",
      "say_hello\n",
      "This is the say_hello function.\n"
     ]
    }
   ],
   "source": [
    "from functools import wraps\n",
    "\n",
    "def my_decorator(func):\n",
    "    @wraps(func)\n",
    "    def wrapper(*args, **kwargs):\n",
    "        print(\"Something is happening before the function is called.\")\n",
    "        result = func(*args, **kwargs)\n",
    "        print(\"Something is happening after the function is called.\")\n",
    "        return result\n",
    "    return wrapper\n",
    "\n",
    "@my_decorator\n",
    "def say_hello():\n",
    "    \"\"\"This is the say_hello function.\"\"\"\n",
    "    print(\"Hello!\")\n",
    "    \n",
    "\n",
    "say_hello()\n",
    "print(say_hello.__name__)\n",
    "print(say_hello.__doc__)\n"
   ]
  },
  {
   "cell_type": "markdown",
   "id": "440ba54d-5812-4553-99da-8e8ba834b736",
   "metadata": {},
   "source": [
    "## Esercizi\n",
    "\n",
    "### Esercizio 1: Decoratore di Temporizzazione\n",
    "Scrivi un decoratore timeit che misura e stampa il tempo di esecuzione di una funzione.\n",
    "\n"
   ]
  },
  {
   "cell_type": "code",
   "execution_count": 7,
   "id": "f829b974-a543-4b54-b861-c67facedba64",
   "metadata": {},
   "outputs": [],
   "source": [
    "# Qui la soluzione"
   ]
  },
  {
   "cell_type": "markdown",
   "id": "fc5dcfbe-8cc2-4732-8648-744785a6fa26",
   "metadata": {},
   "source": [
    "### Esercizio 4: Decoratore di Autenticazione\n",
    "\n",
    "\n",
    "Scrivi un decoratore authenticate che controlla se l'utente è autenticato prima di chiamare la funzione. Se l'utente non è autenticato, stampa un messaggio di errore e non chiama la funzione."
   ]
  },
  {
   "cell_type": "code",
   "execution_count": null,
   "id": "3b6cf8b0-81de-4cad-8fc8-d7b7270e71df",
   "metadata": {},
   "outputs": [],
   "source": []
  }
 ],
 "metadata": {
  "kernelspec": {
   "display_name": "Python 3 (ipykernel)",
   "language": "python",
   "name": "python3"
  },
  "language_info": {
   "codemirror_mode": {
    "name": "ipython",
    "version": 3
   },
   "file_extension": ".py",
   "mimetype": "text/x-python",
   "name": "python",
   "nbconvert_exporter": "python",
   "pygments_lexer": "ipython3",
   "version": "3.13.1"
  }
 },
 "nbformat": 4,
 "nbformat_minor": 5
}
