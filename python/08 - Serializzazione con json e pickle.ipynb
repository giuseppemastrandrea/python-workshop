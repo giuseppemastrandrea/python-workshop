{
 "cells": [
  {
   "cell_type": "markdown",
   "id": "1281ba68",
   "metadata": {},
   "source": [
    "Per **serializzazione** (detta anche *marshalling*) intendiamo il processo di conversione di una struttura dati in una forma (usualmente uno stream di byte) che può essere conservata in un file o trasmessa su una rete. Di contro, la **deserializzazione** (detta anche *unmarshalling*) è il processo inverso, cioè la conversione dallo stream di byte ad una forma intellegibile dal linguaggio di programmazione che stiamo utilizzando. \n",
    "\n",
    "Uno dei casi più comuni di utilizzo di serializzazione è salvare lo stato di una rete neurale (ad esempio i suoi parametri dopo una certa iterazione) in maniera da poter ri-addestrare o utilizzare a produzione la nostra rete senza dover riaddestrare tutto. \n",
    "\n",
    "La libreria standard di Python offre 3 moduli diversi per fare serializzazione e deserializzazione di oggetti:\n",
    "\n",
    "- `json`\n",
    "- `pickle`\n",
    "- `marshal`\n",
    "\n",
    "\n",
    "In questo notebook ci concentreremo su `pickle` e `json`."
   ]
  },
  {
   "cell_type": "markdown",
   "id": "ad566dce",
   "metadata": {},
   "source": [
    "## JSON\n",
    "\n",
    "JSON sta per **JavaScript Object Notation**. È un formato molto comune per la sua leggibilità e per la sua versatilità, che gli consente di essere language-indipendent. È *molto* usato nel mondo del web proprio a causa di questo suo ampio raggio di utilizzo in termini di linguaggi di programmazione che lo supportano. Un oggetto JSON di base è una serie di coppie chiave/valore. \n",
    "\n",
    "La sua sintassi ricorda *molto* da vicino un dizionario Python. Vediamo un esempio:\n",
    "```\n",
    "{\n",
    "    \"firstName\"       : \"Giuseppe\",\n",
    "    \"lastName\"        : \"Mastrandrea\",\n",
    "    \"birthDate\"       : \"20/02/1985\",\n",
    "    \"married\"         : true,\n",
    "    \"children\"        : 1,\n",
    "    \"spokenLanguages\" : [\"Italian\", \"English\"],\n",
    "    \"work\": {\n",
    "        \"company\" : \"Datamasters\",\n",
    "        \"mansion\" : \"Teacher\"\n",
    "    }\n",
    "}\n",
    "```\n",
    "\n",
    "Come possiamo notare JSON è un formato che supporta: \n",
    "- stringhe\n",
    "- numeri\n",
    "- booleani\n",
    "- array\n",
    "- oggetti\n",
    "\n",
    "e combinazioni fra di essi (ad esempio, possiamo avere array di oggetti, oggetti nestati in altri oggetti, etc).\n",
    "\n",
    "L'altra cosa che salta all'occhio è che un oggetto serializzato in JSON somiglia *moltissimo* ad un dizionario Python. \n",
    "\n",
    "Iniziamo a vedere come è possibile codificare/decodificare degli oggetti JSON in Python:"
   ]
  },
  {
   "cell_type": "code",
   "execution_count": 4,
   "id": "3e53af61",
   "metadata": {},
   "outputs": [
    {
     "name": "stdout",
     "output_type": "stream",
     "text": [
      "<class 'dict'>\n"
     ]
    }
   ],
   "source": [
    "import json\n",
    "\n",
    "d = {\n",
    "    'lastName': 'Mastrandrea',\n",
    "    'firstName': 'Giuseppe',\n",
    "    'married': True,\n",
    "    'age': 37, \n",
    "    'hobbies': ['ML', 'Web Programming', 'Beer']\n",
    "}\n",
    "\n",
    "print(type(d))\n",
    "\n",
    "\n",
    "filename = \"files/json_dump.json\"\n"
   ]
  },
  {
   "cell_type": "markdown",
   "id": "eea127ae",
   "metadata": {},
   "source": [
    "Per trasformare un dizionario Python in un oggetto JSON abbiamo a disposizione due metodi:\n",
    "\n",
    "- `dump`\n",
    "- `dumps`\n",
    "\n",
    "Il primo scrive un oggetto JSON in un file, il secondo invece in una stringa.\n",
    "\n"
   ]
  },
  {
   "cell_type": "code",
   "execution_count": 7,
   "id": "6e6844d9",
   "metadata": {},
   "outputs": [],
   "source": [
    "with open(filename, \"w\") as f:\n",
    "    json.dump(d, f) \n",
    "    # json.dump(d, f, indent=4, sort_keys=True)"
   ]
  },
  {
   "cell_type": "markdown",
   "id": "1440b024",
   "metadata": {},
   "source": [
    "Notiamo le virgolette. In JSON le chiavi e le stringhe"
   ]
  },
  {
   "cell_type": "code",
   "execution_count": 9,
   "id": "b8c39527",
   "metadata": {},
   "outputs": [
    {
     "name": "stdout",
     "output_type": "stream",
     "text": [
      "<class 'dict'>\n",
      "{'lastName': 'Mastrandrea', 'firstName': 'Giuseppe', 'married': True, 'age': 37, 'hobbies': ['ML', 'Web Programming', 'Beer']}\n",
      "Mastrandrea\n"
     ]
    }
   ],
   "source": [
    "with open(filename, \"r\") as f:\n",
    "    obj = json.load(f)\n",
    "    print(type(obj))\n",
    "    print(obj)\n",
    "    print(obj['lastName'])"
   ]
  },
  {
   "cell_type": "code",
   "execution_count": 10,
   "id": "6418857c",
   "metadata": {},
   "outputs": [],
   "source": [
    "stud = {\n",
    "    \"firstName\": \"Giuseppe\",\n",
    "    \"lastName\": \"Mastrandrea\",\n",
    "    \"number\": 523562,\n",
    "    \"birthDate\": \"20/02/1985\",\n",
    "    \"sex\": \"M\",\n",
    "    \"average\": 20.33,\n",
    "    \"partTime\": False, \n",
    "    \"exams\": [\n",
    "        {\n",
    "            \"name\": \"Analisi matematica 1\",\n",
    "            \"grade\": 18,\n",
    "            \"cfu\": 6,\n",
    "            \"ssd\": \"MAT-01\"\n",
    "        },\n",
    "        {\n",
    "            \"name\": \"Analisi matematica 2\",\n",
    "            \"grade\": 18,\n",
    "            \"cfu\": 6,\n",
    "            \"ssd\": \"MAT-01\"\n",
    "        },\n",
    "        {\n",
    "            \"name\": \"Sistemi operativi\",\n",
    "            \"grade\": 25,\n",
    "            \"cfu\": 6,\n",
    "            \"ssd\": \"ING-INF-05\"\n",
    "        }\n",
    "    ]\n",
    "}"
   ]
  },
  {
   "cell_type": "code",
   "execution_count": 15,
   "id": "cb3f7cca",
   "metadata": {},
   "outputs": [
    {
     "name": "stdout",
     "output_type": "stream",
     "text": [
      "{\"firstName\": \"Giuseppe\", \"lastName\": \"Mastrandrea\", \"number\": 523562, \"birthDate\": \"20/02/1985\", \"sex\": \"M\", \"average\": 20.33, \"partTime\": false, \"exams\": [{\"name\": \"Analisi matematica 1\", \"grade\": 18, \"cfu\": 6, \"ssd\": \"MAT-01\"}, {\"name\": \"Analisi matematica 2\", \"grade\": 18, \"cfu\": 6, \"ssd\": \"MAT-01\"}, {\"name\": \"Sistemi operativi\", \"grade\": 25, \"cfu\": 6, \"ssd\": \"ING-INF-05\"}]}\n",
      "<class 'str'>\n",
      "{\n",
      "\"\n",
      "0x22\n"
     ]
    }
   ],
   "source": [
    "s = json.dumps(stud)\n",
    "print(s)\n",
    "print(type(s))\n",
    "print(s[0])\n",
    "print(s[1])\n",
    "print(hex(ord(s[1])))"
   ]
  },
  {
   "cell_type": "code",
   "execution_count": 16,
   "id": "65af2ca8",
   "metadata": {},
   "outputs": [
    {
     "name": "stdout",
     "output_type": "stream",
     "text": [
      "<class 'dict'>\n",
      "[{'name': 'Analisi matematica 1', 'grade': 18, 'cfu': 6, 'ssd': 'MAT-01'}, {'name': 'Analisi matematica 2', 'grade': 18, 'cfu': 6, 'ssd': 'MAT-01'}, {'name': 'Sistemi operativi', 'grade': 25, 'cfu': 6, 'ssd': 'ING-INF-05'}]\n"
     ]
    }
   ],
   "source": [
    "new_obj = json.loads(s)\n",
    "print(type(new_obj))\n",
    "print(new_obj['exams'])"
   ]
  },
  {
   "cell_type": "code",
   "execution_count": 18,
   "id": "be3d8f3b",
   "metadata": {},
   "outputs": [
    {
     "name": "stdout",
     "output_type": "stream",
     "text": [
      "Giuseppe Mastrandrea\n"
     ]
    },
    {
     "ename": "TypeError",
     "evalue": "Object of type Stud is not JSON serializable",
     "output_type": "error",
     "traceback": [
      "\u001b[0;31m---------------------------------------------------------------------------\u001b[0m",
      "\u001b[0;31mTypeError\u001b[0m                                 Traceback (most recent call last)",
      "\u001b[0;32m/var/folders/bp/vpf4133s7wjb10lznth5p4900000gn/T/ipykernel_6978/914440626.py\u001b[0m in \u001b[0;36m<module>\u001b[0;34m\u001b[0m\n\u001b[1;32m     11\u001b[0m \u001b[0mprint\u001b[0m\u001b[0;34m(\u001b[0m\u001b[0ms1\u001b[0m\u001b[0;34m)\u001b[0m\u001b[0;34m\u001b[0m\u001b[0;34m\u001b[0m\u001b[0m\n\u001b[1;32m     12\u001b[0m \u001b[0;34m\u001b[0m\u001b[0m\n\u001b[0;32m---> 13\u001b[0;31m \u001b[0mjson\u001b[0m\u001b[0;34m.\u001b[0m\u001b[0mdumps\u001b[0m\u001b[0;34m(\u001b[0m\u001b[0ms1\u001b[0m\u001b[0;34m)\u001b[0m\u001b[0;34m\u001b[0m\u001b[0;34m\u001b[0m\u001b[0m\n\u001b[0m",
      "\u001b[0;32m~/.pyenv/versions/3.10.0/lib/python3.10/json/__init__.py\u001b[0m in \u001b[0;36mdumps\u001b[0;34m(obj, skipkeys, ensure_ascii, check_circular, allow_nan, cls, indent, separators, default, sort_keys, **kw)\u001b[0m\n\u001b[1;32m    229\u001b[0m         \u001b[0mcls\u001b[0m \u001b[0;32mis\u001b[0m \u001b[0;32mNone\u001b[0m \u001b[0;32mand\u001b[0m \u001b[0mindent\u001b[0m \u001b[0;32mis\u001b[0m \u001b[0;32mNone\u001b[0m \u001b[0;32mand\u001b[0m \u001b[0mseparators\u001b[0m \u001b[0;32mis\u001b[0m \u001b[0;32mNone\u001b[0m \u001b[0;32mand\u001b[0m\u001b[0;34m\u001b[0m\u001b[0;34m\u001b[0m\u001b[0m\n\u001b[1;32m    230\u001b[0m         default is None and not sort_keys and not kw):\n\u001b[0;32m--> 231\u001b[0;31m         \u001b[0;32mreturn\u001b[0m \u001b[0m_default_encoder\u001b[0m\u001b[0;34m.\u001b[0m\u001b[0mencode\u001b[0m\u001b[0;34m(\u001b[0m\u001b[0mobj\u001b[0m\u001b[0;34m)\u001b[0m\u001b[0;34m\u001b[0m\u001b[0;34m\u001b[0m\u001b[0m\n\u001b[0m\u001b[1;32m    232\u001b[0m     \u001b[0;32mif\u001b[0m \u001b[0mcls\u001b[0m \u001b[0;32mis\u001b[0m \u001b[0;32mNone\u001b[0m\u001b[0;34m:\u001b[0m\u001b[0;34m\u001b[0m\u001b[0;34m\u001b[0m\u001b[0m\n\u001b[1;32m    233\u001b[0m         \u001b[0mcls\u001b[0m \u001b[0;34m=\u001b[0m \u001b[0mJSONEncoder\u001b[0m\u001b[0;34m\u001b[0m\u001b[0;34m\u001b[0m\u001b[0m\n",
      "\u001b[0;32m~/.pyenv/versions/3.10.0/lib/python3.10/json/encoder.py\u001b[0m in \u001b[0;36mencode\u001b[0;34m(self, o)\u001b[0m\n\u001b[1;32m    197\u001b[0m         \u001b[0;31m# exceptions aren't as detailed.  The list call should be roughly\u001b[0m\u001b[0;34m\u001b[0m\u001b[0;34m\u001b[0m\u001b[0m\n\u001b[1;32m    198\u001b[0m         \u001b[0;31m# equivalent to the PySequence_Fast that ''.join() would do.\u001b[0m\u001b[0;34m\u001b[0m\u001b[0;34m\u001b[0m\u001b[0m\n\u001b[0;32m--> 199\u001b[0;31m         \u001b[0mchunks\u001b[0m \u001b[0;34m=\u001b[0m \u001b[0mself\u001b[0m\u001b[0;34m.\u001b[0m\u001b[0miterencode\u001b[0m\u001b[0;34m(\u001b[0m\u001b[0mo\u001b[0m\u001b[0;34m,\u001b[0m \u001b[0m_one_shot\u001b[0m\u001b[0;34m=\u001b[0m\u001b[0;32mTrue\u001b[0m\u001b[0;34m)\u001b[0m\u001b[0;34m\u001b[0m\u001b[0;34m\u001b[0m\u001b[0m\n\u001b[0m\u001b[1;32m    200\u001b[0m         \u001b[0;32mif\u001b[0m \u001b[0;32mnot\u001b[0m \u001b[0misinstance\u001b[0m\u001b[0;34m(\u001b[0m\u001b[0mchunks\u001b[0m\u001b[0;34m,\u001b[0m \u001b[0;34m(\u001b[0m\u001b[0mlist\u001b[0m\u001b[0;34m,\u001b[0m \u001b[0mtuple\u001b[0m\u001b[0;34m)\u001b[0m\u001b[0;34m)\u001b[0m\u001b[0;34m:\u001b[0m\u001b[0;34m\u001b[0m\u001b[0;34m\u001b[0m\u001b[0m\n\u001b[1;32m    201\u001b[0m             \u001b[0mchunks\u001b[0m \u001b[0;34m=\u001b[0m \u001b[0mlist\u001b[0m\u001b[0;34m(\u001b[0m\u001b[0mchunks\u001b[0m\u001b[0;34m)\u001b[0m\u001b[0;34m\u001b[0m\u001b[0;34m\u001b[0m\u001b[0m\n",
      "\u001b[0;32m~/.pyenv/versions/3.10.0/lib/python3.10/json/encoder.py\u001b[0m in \u001b[0;36miterencode\u001b[0;34m(self, o, _one_shot)\u001b[0m\n\u001b[1;32m    255\u001b[0m                 \u001b[0mself\u001b[0m\u001b[0;34m.\u001b[0m\u001b[0mkey_separator\u001b[0m\u001b[0;34m,\u001b[0m \u001b[0mself\u001b[0m\u001b[0;34m.\u001b[0m\u001b[0mitem_separator\u001b[0m\u001b[0;34m,\u001b[0m \u001b[0mself\u001b[0m\u001b[0;34m.\u001b[0m\u001b[0msort_keys\u001b[0m\u001b[0;34m,\u001b[0m\u001b[0;34m\u001b[0m\u001b[0;34m\u001b[0m\u001b[0m\n\u001b[1;32m    256\u001b[0m                 self.skipkeys, _one_shot)\n\u001b[0;32m--> 257\u001b[0;31m         \u001b[0;32mreturn\u001b[0m \u001b[0m_iterencode\u001b[0m\u001b[0;34m(\u001b[0m\u001b[0mo\u001b[0m\u001b[0;34m,\u001b[0m \u001b[0;36m0\u001b[0m\u001b[0;34m)\u001b[0m\u001b[0;34m\u001b[0m\u001b[0;34m\u001b[0m\u001b[0m\n\u001b[0m\u001b[1;32m    258\u001b[0m \u001b[0;34m\u001b[0m\u001b[0m\n\u001b[1;32m    259\u001b[0m def _make_iterencode(markers, _default, _encoder, _indent, _floatstr,\n",
      "\u001b[0;32m~/.pyenv/versions/3.10.0/lib/python3.10/json/encoder.py\u001b[0m in \u001b[0;36mdefault\u001b[0;34m(self, o)\u001b[0m\n\u001b[1;32m    177\u001b[0m \u001b[0;34m\u001b[0m\u001b[0m\n\u001b[1;32m    178\u001b[0m         \"\"\"\n\u001b[0;32m--> 179\u001b[0;31m         raise TypeError(f'Object of type {o.__class__.__name__} '\n\u001b[0m\u001b[1;32m    180\u001b[0m                         f'is not JSON serializable')\n\u001b[1;32m    181\u001b[0m \u001b[0;34m\u001b[0m\u001b[0m\n",
      "\u001b[0;31mTypeError\u001b[0m: Object of type Stud is not JSON serializable"
     ]
    }
   ],
   "source": [
    "class Stud(object):\n",
    "    def __init__(self, firstName, lastName):\n",
    "        self.firstName = firstName\n",
    "        self.lastName = lastName\n",
    "    \n",
    "    def __str__(self):\n",
    "        return f\"{self.firstName} {self.lastName}\"\n",
    "        \n",
    "s1 = Stud(\"Giuseppe\", \"Mastrandrea\")\n",
    "\n",
    "print(s1)\n",
    "\n",
    "json.dumps(s1)"
   ]
  },
  {
   "cell_type": "code",
   "execution_count": 22,
   "id": "79cf62a7",
   "metadata": {},
   "outputs": [
    {
     "name": "stdout",
     "output_type": "stream",
     "text": [
      "{\"firstName\": \"Giuseppe\", \"lastName\": \"Mastrandrea\"}\n",
      "Giuseppe Mastrandrea\n"
     ]
    }
   ],
   "source": [
    "from json import JSONEncoder\n",
    "\n",
    "class StudEncoder(JSONEncoder):\n",
    "    def default(self, obj):\n",
    "        return {\n",
    "            \"firstName\": obj.firstName,\n",
    "            \"lastName\": obj.lastName\n",
    "        }\n",
    "\n",
    "me = Stud(\"Giuseppe\", \"Mastrandrea\")\n",
    "\n",
    "s = json.dumps(me, cls=StudEncoder)\n",
    "print(s)\n",
    "\n",
    "\n",
    "j = json.loads(s)\n",
    "student = Stud(**j)\n",
    " \n",
    "print(student)"
   ]
  },
  {
   "cell_type": "code",
   "execution_count": 24,
   "id": "5ee3737a",
   "metadata": {},
   "outputs": [
    {
     "name": "stdout",
     "output_type": "stream",
     "text": [
      "Giuseppe Mastrandrea\n",
      "<class '__main__.Stud'>\n",
      "b'\\x80\\x04\\x95M\\x00\\x00\\x00\\x00\\x00\\x00\\x00\\x8c\\x08__main__\\x94\\x8c\\x04Stud\\x94\\x93\\x94)\\x81\\x94}\\x94(\\x8c\\tfirstName\\x94\\x8c\\x08Giuseppe\\x94\\x8c\\x08lastName\\x94\\x8c\\x0bMastrandrea\\x94ub.'\n",
      "Giuseppe Mastrandrea\n"
     ]
    }
   ],
   "source": [
    "import pickle\n",
    "\n",
    "print(s1)\n",
    "print(type(s1))\n",
    "\n",
    "s = pickle.dumps(s1)\n",
    "print(s)\n",
    "\n",
    "\n",
    "copy = pickle.loads(s)\n",
    "print(copy)\n",
    "\n",
    "pickle_filename=\"files/pickle\"\n",
    "\n",
    "with open(pickle_filename, \"wb\") as f:\n",
    "    pickle.dump(s1, f)"
   ]
  },
  {
   "cell_type": "code",
   "execution_count": 26,
   "id": "58de91d5",
   "metadata": {},
   "outputs": [
    {
     "name": "stdout",
     "output_type": "stream",
     "text": [
      "Giuseppe Mastrandrea\n",
      "<class '__main__.Stud'>\n",
      "Giuseppe\n"
     ]
    }
   ],
   "source": [
    "with open(pickle_filename, \"rb\") as f:\n",
    "    obj = pickle.load(f)\n",
    "    print(obj)\n",
    "    print(type(obj))\n",
    "    print(obj.firstName)"
   ]
  },
  {
   "cell_type": "code",
   "execution_count": 27,
   "id": "3eb71edf",
   "metadata": {},
   "outputs": [
    {
     "data": {
      "text/plain": [
       "LinearRegression()"
      ]
     },
     "execution_count": 27,
     "metadata": {},
     "output_type": "execute_result"
    }
   ],
   "source": [
    "from sklearn.linear_model import LinearRegression\n",
    "import numpy as np\n",
    "lr = LinearRegression()\n",
    "\n",
    "X = [[1], [20], [30]]\n",
    "y = [0, 2, 3]\n",
    "lr.fit(X, y)"
   ]
  },
  {
   "cell_type": "code",
   "execution_count": 30,
   "id": "502677d9",
   "metadata": {},
   "outputs": [
    {
     "name": "stdout",
     "output_type": "stream",
     "text": [
      "[0.10368664]\n",
      "-0.09600614439324118\n",
      "\u0004Ð\u0001\u0000\u0000\u0000\u0000\u0000\u0000\u001asklearn.linear_model._base\u0010LinearRegression)}(\r",
      "fit_intercept\tnormalize\n",
      "deprecated\u0006copy_X\u0006n_jobsN\bpositive\u000en_features_in_K\u0001\u0005coef_\u0015numpy.core.multiarray\f",
      "_reconstruct\u0005numpy\u0007ndarrayK\u0000",
      "C\u0001bR(K\u0001K\u0001",
      "h\u0010\u0005dtype\u0002f8R(K\u0003\u0001<NNNJÿÿÿÿJÿÿÿÿK\u0000tbC\bÕ,j\u00165º?tb\t_residuesh\r",
      "\u0006scalarh\u001c",
      "C\br«d\u0000Ý*I?R\u0005rank_K\u0001\tsingular_h\u000fh\u0012K\u0000",
      "h\u0014R(K\u0001K\u0001",
      "h\u001c",
      "C\büüW¤)Õ4@tb\n",
      "intercept_h#h\u001c",
      "C\bpObÒÛ¸¿R\u0010_sklearn_version\u00051.0.2ub.\n"
     ]
    }
   ],
   "source": [
    "print(lr.coef_)\n",
    "print(lr.intercept_)\n",
    "\n",
    "with open(\"files/model.pickle\", \"wb\") as f:\n",
    "    pickle.dump(lr, f)\n",
    "    s = pickle.dumps(lr)\n",
    "    print(s.decode(\"latin1\"))\n"
   ]
  },
  {
   "cell_type": "code",
   "execution_count": 35,
   "id": "f218dda3",
   "metadata": {},
   "outputs": [
    {
     "name": "stdout",
     "output_type": "stream",
     "text": [
      "coef_      after further training: [-0.18245846]\n",
      "intercept_ after further training: 0.5411611049028924\n",
      "coef_      legacy model: [0.05146781]\n",
      "intercept_ legacy model: 0.434968501594567\n",
      "coef_      legacy model: [-0.18245846]\n",
      "intercept_ legacy model: 0.5411611049028924\n"
     ]
    }
   ],
   "source": [
    "X = np.random.rand(100, 1)\n",
    "y = np.random.rand(100)\n",
    "    \n",
    "for i in range(0, 1000):\n",
    "    lr.fit(X, y)\n",
    "    \n",
    "print(f\"coef_      after further training: {lr.coef_}\")\n",
    "print(f\"intercept_ after further training: {lr.intercept_}\")\n",
    "\n",
    "\n",
    "\n",
    "with open(\"files/model.pickle\", \"rb\") as f:\n",
    "    model = pickle.load(f)\n",
    "    print(f\"coef_      legacy model: {model.coef_}\")\n",
    "    print(f\"intercept_ legacy model: {model.intercept_}\")\n",
    "\n",
    "with open(\"files/model.pickle\", \"wb\") as f:\n",
    "    pickle.dump(lr, f)\n",
    "    \n",
    "with open(\"files/model.pickle\", \"rb\") as f:\n",
    "    model = pickle.load(f)\n",
    "    print(f\"coef_      legacy model: {model.coef_}\")\n",
    "    print(f\"intercept_ legacy model: {model.intercept_}\")"
   ]
  },
  {
   "cell_type": "code",
   "execution_count": null,
   "id": "18bbd4a8",
   "metadata": {},
   "outputs": [],
   "source": []
  }
 ],
 "metadata": {
  "kernelspec": {
   "display_name": "Python 3 (ipykernel)",
   "language": "python",
   "name": "python3"
  },
  "language_info": {
   "codemirror_mode": {
    "name": "ipython",
    "version": 3
   },
   "file_extension": ".py",
   "mimetype": "text/x-python",
   "name": "python",
   "nbconvert_exporter": "python",
   "pygments_lexer": "ipython3",
   "version": "3.10.0"
  }
 },
 "nbformat": 4,
 "nbformat_minor": 5
}
